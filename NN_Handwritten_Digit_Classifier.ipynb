{
  "nbformat": 4,
  "nbformat_minor": 0,
  "metadata": {
    "colab": {
      "name": "NN - Handwritten Digit Classifier.ipynb",
      "provenance": [],
      "collapsed_sections": [],
      "authorship_tag": "ABX9TyP8Wg1FiJHzRi7Tq6/5nul6",
      "include_colab_link": true
    },
    "kernelspec": {
      "name": "python3",
      "display_name": "Python 3"
    }
  },
  "cells": [
    {
      "cell_type": "markdown",
      "metadata": {
        "id": "view-in-github",
        "colab_type": "text"
      },
      "source": [
        "<a href=\"https://colab.research.google.com/github/prabhudc/DQ/blob/master/NN_Handwritten_Digit_Classifier.ipynb\" target=\"_parent\"><img src=\"https://colab.research.google.com/assets/colab-badge.svg\" alt=\"Open In Colab\"/></a>"
      ]
    },
    {
      "cell_type": "markdown",
      "metadata": {
        "id": "ZSPMS0kP8snv",
        "colab_type": "text"
      },
      "source": [
        "# Handwritten Digit Classifier\n",
        "This project uses Neural Networks to classiy a dataset of handwritten numerals into their corresponding numbers. We use the digits  available out fof the box in sklearn."
      ]
    },
    {
      "cell_type": "code",
      "metadata": {
        "id": "Y8yFzx7J8oRu",
        "colab_type": "code",
        "colab": {}
      },
      "source": [
        "# The usual suspects\n",
        "import pandas as pd\n",
        "import numpy as np\n",
        "import math\n",
        "\n",
        "# Plotting\n",
        "import matplotlib.pyplot as plt\n",
        "\n",
        "# Generate data\n",
        "from sklearn.datasets import load_digits\n",
        "\n",
        "# Model\n",
        "from sklearn.neighbors import KNeighborsClassifier\n",
        "from sklearn.neural_network import MLPClassifier\n",
        "\n",
        "# Metrics\n",
        "from sklearn.metrics import mean_squared_error, accuracy_score\n",
        "\n",
        "# Misc\n",
        "import warnings\n",
        "warnings.filterwarnings('ignore')"
      ],
      "execution_count": 34,
      "outputs": []
    },
    {
      "cell_type": "markdown",
      "metadata": {
        "id": "qn8ZFYL5EoS9",
        "colab_type": "text"
      },
      "source": [
        "## Load and explore data"
      ]
    },
    {
      "cell_type": "code",
      "metadata": {
        "id": "zqJOFzLD84cN",
        "colab_type": "code",
        "colab": {}
      },
      "source": [
        "data = load_digits()\n",
        "im_data = pd.DataFrame(data['data'])\n",
        "im_label = data['target']"
      ],
      "execution_count": 4,
      "outputs": []
    },
    {
      "cell_type": "code",
      "metadata": {
        "id": "NHo8-BqM-Iq0",
        "colab_type": "code",
        "colab": {}
      },
      "source": [
        "# Function to print an image \n",
        "def print_img(index):\n",
        "  plt.imshow(np.array(im_data.iloc[index]).reshape(8,8),cmap='gray')"
      ],
      "execution_count": 5,
      "outputs": []
    },
    {
      "cell_type": "markdown",
      "metadata": {
        "id": "E17fXvdUDo1P",
        "colab_type": "text"
      },
      "source": [
        "Visualize the digit dataset and get a better understanding"
      ]
    },
    {
      "cell_type": "code",
      "metadata": {
        "id": "IQbMHm78-kxc",
        "colab_type": "code",
        "colab": {
          "base_uri": "https://localhost:8080/",
          "height": 592
        },
        "outputId": "3a677558-9285-469b-d1ce-c60559c72279"
      },
      "source": [
        "fig = plt.figure(figsize=(10,10))\n",
        "indexes = np.random.choice(np.arange(im_data.shape[0]),64,replace=False)\n",
        "\n",
        "for ind in range(len(indexes)):\n",
        "    ax = fig.add_subplot(8,8,ind+1)\n",
        "    ax.imshow(data['data'][indexes[ind]].reshape(8,8),cmap='gray')\n",
        "plt.show()  "
      ],
      "execution_count": 6,
      "outputs": [
        {
          "output_type": "display_data",
          "data": {
            "image/png": "[encoded data removed]",
            "text/plain": [
              "<Figure size 720x720 with 64 Axes>"
            ]
          },
          "metadata": {
            "tags": [],
            "needs_background": "light"
          }
        }
      ]
    },
    {
      "cell_type": "markdown",
      "metadata": {
        "id": "MdgY7cZFElb-",
        "colab_type": "text"
      },
      "source": [
        "## Modelling - KMeans"
      ]
    },
    {
      "cell_type": "markdown",
      "metadata": {
        "id": "Ma7JnzMRE72U",
        "colab_type": "text"
      },
      "source": [
        "Define helper functions for modelling"
      ]
    },
    {
      "cell_type": "code",
      "metadata": {
        "id": "12PM8nWHEsCt",
        "colab_type": "code",
        "colab": {}
      },
      "source": [
        "def train(data,labels,k=5):\n",
        "  clf = KNeighborsClassifier(k)\n",
        "  clf.fit(data,labels)\n",
        "  return clf\n",
        "\n",
        "def cross_validate(data,labels,kfolds=4,k=5):\n",
        "  fold_size = math.floor(data.shape[0]/kfolds)\n",
        "  folds = []\n",
        "  \n",
        "  mse = [] \n",
        "  accuracy_score_folds = []\n",
        "  for i in range(kfolds):\n",
        "    # print(i*fold_size,i*fold_size + fold_size)\n",
        "    # Index of the folds\n",
        "    test_index = np.arange(i*fold_size,i*fold_size + fold_size)\n",
        "    \n",
        "    # Training data\n",
        "    train_data = data.iloc[~data.index.isin(test_index)]\n",
        "    train_labels = labels[~data.index.isin(test_index)]\n",
        "\n",
        "    # Testing data \n",
        "    test_data = data.iloc[test_index]\n",
        "    test_labels = labels[test_index]\n",
        "\n",
        "    clf = train(train_data,train_labels,k)   \n",
        "\n",
        "    y_pred = clf.predict(test_data)\n",
        "    \n",
        "    accuracy_score_folds.append(accuracy_score(test_labels,y_pred))\n",
        "    \n",
        "  return np.mean(accuracy_score_folds)\n"
      ],
      "execution_count": 7,
      "outputs": []
    },
    {
      "cell_type": "markdown",
      "metadata": {
        "id": "WZJ21IqZLkaA",
        "colab_type": "text"
      },
      "source": [
        "k-Fold validation run on k-Means with 4 folds"
      ]
    },
    {
      "cell_type": "code",
      "metadata": {
        "id": "_oq4MMQWJ-ve",
        "colab_type": "code",
        "colab": {
          "base_uri": "https://localhost:8080/",
          "height": 35
        },
        "outputId": "f91bcac6-81a7-4fb4-b226-7618f0a86248"
      },
      "source": [
        "cross_validate(im_data,im_label,4,1)"
      ],
      "execution_count": 8,
      "outputs": [
        {
          "output_type": "execute_result",
          "data": {
            "text/plain": [
              "0.9671492204899776"
            ]
          },
          "metadata": {
            "tags": []
          },
          "execution_count": 8
        }
      ]
    },
    {
      "cell_type": "markdown",
      "metadata": {
        "id": "v5RoldQ0L6oR",
        "colab_type": "text"
      },
      "source": [
        "Let us compare and evaluate how the accuracy evolves across the hyperparameter - k"
      ]
    },
    {
      "cell_type": "code",
      "metadata": {
        "id": "pG-kARjxKk-u",
        "colab_type": "code",
        "colab": {
          "base_uri": "https://localhost:8080/",
          "height": 265
        },
        "outputId": "2d2758dc-3758-4766-e0d5-e5e7cb40bd5a"
      },
      "source": [
        "k_list = np.arange(1,21)\n",
        "accuracies = []\n",
        "for k in k_list:\n",
        "  accuracies.append(cross_validate(im_data,im_label,4,k))\n",
        "\n",
        "plt.plot(k_list,accuracies )\n",
        "plt.show()"
      ],
      "execution_count": 9,
      "outputs": [
        {
          "output_type": "display_data",
          "data": {
            "image/png": "[encoded data removed]",
            "text/plain": [
              "<Figure size 432x288 with 1 Axes>"
            ]
          },
          "metadata": {
            "tags": [],
            "needs_background": "light"
          }
        }
      ]
    },
    {
      "cell_type": "markdown",
      "metadata": {
        "id": "0JlzroU_VD_O",
        "colab_type": "text"
      },
      "source": [
        "## Modelling - Neural Nets"
      ]
    },
    {
      "cell_type": "code",
      "metadata": {
        "id": "rBxj8qadOGqU",
        "colab_type": "code",
        "colab": {}
      },
      "source": [
        "def train_nn(data,labels,layers):\n",
        "  clf = MLPClassifier(hidden_layer_sizes=layers, activation='relu', max_iter=1000)\n",
        "  clf.fit(data,labels)\n",
        "  return clf\n",
        "\n",
        "def cross_validate_nn(data,labels,kfolds=4,layers=(1)):\n",
        "  fold_size = math.floor(data.shape[0]/kfolds)\n",
        "  folds = []\n",
        "  \n",
        "  mse = [] \n",
        "  accuracy_score_folds = []\n",
        "  for i in range(kfolds):\n",
        "    # print(i*fold_size,i*fold_size + fold_size)\n",
        "    # Index of the folds\n",
        "    test_index = np.arange(i*fold_size,i*fold_size + fold_size)\n",
        "    \n",
        "    # Training data\n",
        "    train_data = data.iloc[~data.index.isin(test_index)]\n",
        "    train_labels = labels[~data.index.isin(test_index)]\n",
        "\n",
        "    # Testing data \n",
        "    test_data = data.iloc[test_index]\n",
        "    test_labels = labels[test_index]\n",
        "\n",
        "    clf = train_nn(train_data,train_labels,layers)   \n",
        "\n",
        "    y_pred = clf.predict(test_data)\n",
        "    \n",
        "    accuracy_score_folds.append(accuracy_score(test_labels,y_pred))\n",
        "    \n",
        "  return np.mean(accuracy_score_folds)"
      ],
      "execution_count": 31,
      "outputs": []
    },
    {
      "cell_type": "markdown",
      "metadata": {
        "id": "mhFuumZ_aR0A",
        "colab_type": "text"
      },
      "source": [
        "Single Nueron and Single layer"
      ]
    },
    {
      "cell_type": "code",
      "metadata": {
        "id": "DNpQfaqAZq6a",
        "colab_type": "code",
        "colab": {
          "base_uri": "https://localhost:8080/",
          "height": 35
        },
        "outputId": "636f1d51-dddd-4e70-c65e-298fb1098c4b"
      },
      "source": [
        "cross_validate_nn(im_data,im_label,4,(1,))"
      ],
      "execution_count": 35,
      "outputs": [
        {
          "output_type": "execute_result",
          "data": {
            "text/plain": [
              "0.20211581291759464"
            ]
          },
          "metadata": {
            "tags": []
          },
          "execution_count": 35
        }
      ]
    },
    {
      "cell_type": "markdown",
      "metadata": {
        "id": "Bsm0deSdaVsD",
        "colab_type": "text"
      },
      "source": [
        "Larger number of neurons"
      ]
    },
    {
      "cell_type": "code",
      "metadata": {
        "id": "MaCing8Vavbm",
        "colab_type": "code",
        "colab": {
          "base_uri": "https://localhost:8080/",
          "height": 265
        },
        "outputId": "44677e6f-8a0a-4dd9-bb82-99b0c2ce5393"
      },
      "source": [
        "neurons = [8, 16, 32, 64, 128, 256]\n",
        "accuracies = []\n",
        "for neuron in neurons:\n",
        "  accuracies.append(cross_validate_nn(im_data,im_label,4,(neuron,)))\n",
        "plt.plot(neurons,accuracies )\n",
        "plt.show()"
      ],
      "execution_count": 37,
      "outputs": [
        {
          "output_type": "display_data",
          "data": {
            "image/png": "[encoded data removed]",
            "text/plain": [
              "<Figure size 432x288 with 1 Axes>"
            ]
          },
          "metadata": {
            "tags": [],
            "needs_background": "light"
          }
        }
      ]
    },
    {
      "cell_type": "markdown",
      "metadata": {
        "id": "erOjNAPLbqFz",
        "colab_type": "text"
      },
      "source": [
        "As the number of neurons increased, the accuracy vastly improved as well to as much as 95.5\n"
      ]
    },
    {
      "cell_type": "code",
      "metadata": {
        "id": "IkFAAKHUbx2R",
        "colab_type": "code",
        "colab": {
          "base_uri": "https://localhost:8080/",
          "height": 35
        },
        "outputId": "37ee3358-e851-4180-e420-c5eedbe89543"
      },
      "source": [
        "accuracies[5]"
      ],
      "execution_count": 38,
      "outputs": [
        {
          "output_type": "execute_result",
          "data": {
            "text/plain": [
              "0.955456570155902"
            ]
          },
          "metadata": {
            "tags": []
          },
          "execution_count": 38
        }
      ]
    },
    {
      "cell_type": "markdown",
      "metadata": {
        "id": "icTs_S6Ec7Bd",
        "colab_type": "text"
      },
      "source": [
        "Two layers - 64 and 64"
      ]
    },
    {
      "cell_type": "code",
      "metadata": {
        "id": "EBYEdJvMc-yt",
        "colab_type": "code",
        "colab": {
          "base_uri": "https://localhost:8080/",
          "height": 35
        },
        "outputId": "714a6316-03d2-4d78-860b-e1f74c8072bf"
      },
      "source": [
        "cross_validate_nn(im_data,im_label,4,(64,64))"
      ],
      "execution_count": 39,
      "outputs": [
        {
          "output_type": "execute_result",
          "data": {
            "text/plain": [
              "0.9432071269487751"
            ]
          },
          "metadata": {
            "tags": []
          },
          "execution_count": 39
        }
      ]
    },
    {
      "cell_type": "code",
      "metadata": {
        "id": "97U-pD_3dZqW",
        "colab_type": "code",
        "colab": {
          "base_uri": "https://localhost:8080/",
          "height": 72
        },
        "outputId": "0640a204-1c28-4244-8a4d-930ecd109445"
      },
      "source": [
        "# neurons = [(10,10,10), (64,64,64), (128,128,128) ]\n",
        "neurons = [ 10, 64, 128]\n",
        "accuracies = []\n",
        "for neuron in neurons:\n",
        "  print(neuron)\n",
        "  accuracies.append(cross_validate_nn(im_data,im_label,6,(neuron,neuron,neuron)))"
      ],
      "execution_count": 43,
      "outputs": [
        {
          "output_type": "stream",
          "text": [
            "10\n",
            "64\n",
            "128\n"
          ],
          "name": "stdout"
        }
      ]
    },
    {
      "cell_type": "code",
      "metadata": {
        "id": "2eNNUuXoeRYO",
        "colab_type": "code",
        "colab": {
          "base_uri": "https://localhost:8080/",
          "height": 265
        },
        "outputId": "d3629633-7428-4dff-ea91-7d7c2c7f028f"
      },
      "source": [
        "plt.plot(neurons,accuracies )\n",
        "plt.show()"
      ],
      "execution_count": 44,
      "outputs": [
        {
          "output_type": "display_data",
          "data": {
            "image/png": "[encoded data removed]",
            "text/plain": [
              "<Figure size 432x288 with 1 Axes>"
            ]
          },
          "metadata": {
            "tags": [],
            "needs_background": "light"
          }
        }
      ]
    },
    {
      "cell_type": "code",
      "metadata": {
        "id": "wtA7RJE_iPPB",
        "colab_type": "code",
        "colab": {
          "base_uri": "https://localhost:8080/",
          "height": 35
        },
        "outputId": "f8edd690-75cc-4e26-b6ed-865483070cf9"
      },
      "source": [
        "accuracies[2]"
      ],
      "execution_count": 47,
      "outputs": [
        {
          "output_type": "execute_result",
          "data": {
            "text/plain": [
              "0.9570791527313268"
            ]
          },
          "metadata": {
            "tags": []
          },
          "execution_count": 47
        }
      ]
    }
  ]
}