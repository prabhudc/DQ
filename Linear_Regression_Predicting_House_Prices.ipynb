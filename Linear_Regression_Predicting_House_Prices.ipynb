{
  "nbformat": 4,
  "nbformat_minor": 0,
  "metadata": {
    "colab": {
      "name": "Linear Regression - Predicting House Prices.ipynb",
      "provenance": [],
      "collapsed_sections": [],
      "toc_visible": true,
      "mount_file_id": "1j76wHA3usNbTcnTRt4j-Hq347PqCAfJ1",
      "authorship_tag": "ABX9TyPW23+sKdgPb04OE+BlTelw",
      "include_colab_link": true
    },
    "kernelspec": {
      "name": "python3",
      "display_name": "Python 3"
    }
  },
  "cells": [
    {
      "cell_type": "markdown",
      "metadata": {
        "id": "view-in-github",
        "colab_type": "text"
      },
      "source": [
        "<a href=\"https://colab.research.google.com/github/prabhudc/DQ/blob/master/Linear_Regression_Predicting_House_Prices.ipynb\" target=\"_parent\"><img src=\"https://colab.research.google.com/assets/colab-badge.svg\" alt=\"Open In Colab\"/></a>"
      ]
    },
    {
      "cell_type": "markdown",
      "metadata": {
        "id": "5huKR9hkf8hS",
        "colab_type": "text"
      },
      "source": [
        "# Predicting House Sale Prices"
      ]
    },
    {
      "cell_type": "markdown",
      "metadata": {
        "id": "fquMBoaDgGOM",
        "colab_type": "text"
      },
      "source": [
        "## Objective\n",
        "\n",
        "The objective of this exercise is to build and effective model to predict prices of houses in Ames, Iowa, United States. The data is a well known publif domain dataset surveyed from this region. \n",
        "\n",
        "Here we will walk through the steps to model effectively a Linear Regression Model with all the needed bells and whistles to get the model working."
      ]
    },
    {
      "cell_type": "code",
      "metadata": {
        "id": "UxF1Coewf0EI",
        "colab_type": "code",
        "colab": {
          "base_uri": "https://localhost:8080/",
          "height": 51
        },
        "outputId": "458a5019-2629-48b7-d229-11384064a9bf"
      },
      "source": [
        "# Import Libraries\n",
        "import numpy as np\n",
        "import seaborn as sns\n",
        "import matplotlib.pyplot as plt\n",
        "import pandas as pd\n",
        "from sklearn.linear_model import LinearRegression\n",
        "from sklearn.metrics import mean_squared_error"
      ],
      "execution_count": 1,
      "outputs": [
        {
          "output_type": "stream",
          "text": [
            "/usr/local/lib/python3.6/dist-packages/statsmodels/tools/_testing.py:19: FutureWarning: pandas.util.testing is deprecated. Use the functions in the public API at pandas.testing instead.\n",
            "  import pandas.util.testing as tm\n"
          ],
          "name": "stderr"
        }
      ]
    },
    {
      "cell_type": "markdown",
      "metadata": {
        "id": "5KQaOuxsgzd3",
        "colab_type": "text"
      },
      "source": [
        "## Data Preperation"
      ]
    },
    {
      "cell_type": "code",
      "metadata": {
        "id": "FDDR0fMXgwwS",
        "colab_type": "code",
        "colab": {}
      },
      "source": [
        "data = pd.read_csv('/content/drive/My Drive/DataScience/files/AmesHousing.txt', delimiter=\"\\t\")\n",
        "train = data[0:1460]\n",
        "test = data[1460:]"
      ],
      "execution_count": 2,
      "outputs": []
    },
    {
      "cell_type": "markdown",
      "metadata": {
        "id": "6Ewt9jamhbVY",
        "colab_type": "text"
      },
      "source": [
        "### Function : Transform Features\n",
        "Define a reusable function to tranform features."
      ]
    },
    {
      "cell_type": "code",
      "metadata": {
        "id": "aoPweAyshlMd",
        "colab_type": "code",
        "colab": {}
      },
      "source": [
        "def transform_features(df, null_drop_pct=.05, corr_to_target=.45, stddev_thresh = 500, unique_count_thresh = 20 ):  \n",
        "  df_local = df.copy()\n",
        "  # Determine columns to be dropped\n",
        "  columns_to_be_dropped = ['Order', # Just a numerical index\n",
        "                           'PID',   # Process ID\n",
        "                           'Garage Yr Blt',\n",
        "                           'Yr Sold',\n",
        "                           'Mo Sold'\n",
        "  ]\n",
        "  df_local.drop(columns=columns_to_be_dropped,inplace=True)\n",
        "  print('Dropped following features as they are not meaningful predictive features',columns_to_be_dropped)\n",
        "  # Determine columns for which less than 5% of the records have null values\n",
        "  less_than_5perc_nulls = df_local.columns[(df_local.isnull().sum() > 0 ) & (df_local.isnull().sum() < (df_local.shape[0]*null_drop_pct)) ]\n",
        "  # For all such columns, update the nulls with the most frequent value in that column\n",
        "  for col in less_than_5perc_nulls:\n",
        "    # Get the most frequent column\n",
        "    most_freqent_val = df_local[col].value_counts().index[0]\n",
        "    # Set the nulls to the most frequent valye\n",
        "    df_local.loc[df_local[col].isnull(),col] = most_freqent_val\n",
        "  \n",
        "\n",
        "  df_local['years_until_remod'] = df_local['Year Remod/Add'] - df_local['Year Built']  \n",
        "  df_local.drop(columns=['Year Remod/Add','Year Built'],inplace=True)\n",
        "  print('Dropped following features as they are not meaningful predictive features',['Year Remod/Add','Year Built'])\n",
        "\n",
        "  # Drop columns that have a weak correlation to the target\n",
        "  # Select all numeric features\n",
        "  df_temp_numeric = df_local.select_dtypes(include=['int64','float64'])\n",
        "  # Calculate the correlation matrix\n",
        "  corr_mtrx = np.abs(df_temp_numeric.corr())\n",
        "  weak_ftrs_to_drop = corr_mtrx[corr_mtrx['SalePrice'] < corr_to_target].index\n",
        "  print('Dropped following features as they have a weak correlation with SalePrice',weak_ftrs_to_drop)\n",
        "  df_local.drop(columns=weak_ftrs_to_drop,inplace=True)\n",
        "\n",
        "  # Drop columns that have a strong correlation to the each other\n",
        "  # Select all numeric features\n",
        "  strong_ftrs_to_drop = ['Garage Cars','1st Flr SF','TotRms AbvGrd','Full Bath']\n",
        "  df_local.drop(columns=strong_ftrs_to_drop,inplace=True)\n",
        "\n",
        "  # Drop non-numeric columns that have significant nulls\n",
        "  columns_txt_nulls = ['Alley','Fireplace Qu','Pool QC','Fence','Misc Feature']\n",
        "  df_local.drop(columns=columns_txt_nulls,inplace=True)\n",
        "\n",
        "  # Drop columns that have a high variance\n",
        "  df_temp_object = df_local.select_dtypes(include=['object'])\n",
        "  drop_stddev = []\n",
        "  for col in df_temp_object.columns:\n",
        "    if df_temp_object[col].value_counts().std()  > stddev_thresh:\n",
        "      drop_stddev.append(col)\n",
        "  df_local.drop(columns=drop_stddev, inplace=True)\n",
        "\n",
        "  # Drop columns that have a high number of unique values\n",
        "  drop_uniq_val = []\n",
        "  for col in df_temp_object.columns:\n",
        "    if df_temp_object[col].value_counts().shape[0] > unique_count_thresh:\n",
        "      drop_uniq_val.append(col)\n",
        "  df_local.drop(columns=drop_uniq_val, inplace=True)\n",
        "\n",
        "  # Convert categorical features to drummy values  \n",
        "  categoric_ftrs = df_local.select_dtypes('object').columns\n",
        "  for col in categoric_ftrs:\n",
        "    df_dummy = pd.get_dummies(df_local[col])\n",
        "    df_local.drop(columns=[col],inplace=True)\n",
        "    df_local = pd.concat([df_local,df_dummy],axis = 1).copy()\n",
        "\n",
        "  # Drop newly created categoric features if they have a weak correlation with the target\n",
        "  # corr_mtrx = np.abs(df_local.corr())\n",
        "  # weak_ftrs_to_drop = corr_mtrx[corr_mtrx['SalePrice'] < .45].index\n",
        "  # print('Dropped following features(dummy) as they have a weak correlation with SalePrice',weak_ftrs_to_drop)\n",
        "  # df_local.drop(columns=weak_ftrs_to_drop,inplace=True)\n",
        "  \n",
        "  return df_local\n"
      ],
      "execution_count": 3,
      "outputs": []
    },
    {
      "cell_type": "markdown",
      "metadata": {
        "id": "TM01LPfgihCj",
        "colab_type": "text"
      },
      "source": [
        "### Function : Feature Selection\n",
        "Define a reusable function to select features."
      ]
    },
    {
      "cell_type": "code",
      "metadata": {
        "id": "pf-829cPi7kp",
        "colab_type": "code",
        "colab": {}
      },
      "source": [
        "def select_features():\n",
        "  return train[['Gr Liv Area','SalePrice']]"
      ],
      "execution_count": 4,
      "outputs": []
    },
    {
      "cell_type": "markdown",
      "metadata": {
        "id": "O-ksJxhe6HJ9",
        "colab_type": "text"
      },
      "source": [
        "### Function : Linear Regression Model"
      ]
    },
    {
      "cell_type": "code",
      "metadata": {
        "id": "DSWawkhL6LNc",
        "colab_type": "code",
        "colab": {}
      },
      "source": [
        "def model_exection(train,test):\n",
        "  # Instantiate the model\n",
        "  lr = LinearRegression()\n",
        "\n",
        "\n",
        "  # Train the model\n",
        "  X = train.copy()\n",
        "  X.drop(columns=['SalePrice'],inplace=True)\n",
        "  y = train['SalePrice']\n",
        "\n",
        "  # Fit the model\n",
        "  lr.fit(X,y) \n",
        "\n",
        "  # Test the model\n",
        "  X = test.copy()\n",
        "  X.drop(columns=['SalePrice'],inplace=True)\n",
        "  y_true = test['SalePrice']\n",
        "\n",
        "  # Predict\n",
        "  y_pred = lr.predict(X)\n",
        "\n",
        "  # Determine RMSE\n",
        "  mse = mean_squared_error(y_true=y_true,y_pred=y_pred)\n",
        "  rmse = np.sqrt(mse)\n",
        "\n",
        "  return rmse"
      ],
      "execution_count": 16,
      "outputs": []
    },
    {
      "cell_type": "markdown",
      "metadata": {
        "id": "hn0kLT9PjLBy",
        "colab_type": "text"
      },
      "source": [
        "### Function :Train & Test\n",
        "Define a reusable function to train and test the regression model"
      ]
    },
    {
      "cell_type": "code",
      "metadata": {
        "id": "lhc9XtaJjYJY",
        "colab_type": "code",
        "colab": {}
      },
      "source": [
        "def train_and_test(data, k = 0):\n",
        "  rmse_list = []\n",
        "  data_transformed = transform_features(data, null_drop_pct=.05, corr_to_target=.45, stddev_thresh = 500, unique_count_thresh = 20 )\n",
        "\n",
        "  \n",
        "  print(\"********************************************************************************************************************\")\n",
        "  print(\"Features used in the final model\", data_transformed.columns)\n",
        "  \n",
        "\n",
        "    # Create a Train and Test split\n",
        "  if k == 0:\n",
        "    train = data_transformed[0:1460]\n",
        "    test = data_transformed[1460:]\n",
        "    rmse_list.append(model_exection(train,test))\n",
        "\n",
        "  elif k == 1:\n",
        "    \n",
        "    data_transformed.iloc[np.random.permutation(np.arange(data_transformed.shape[0]))]\n",
        "    \n",
        "    train = data_transformed[0:1460]\n",
        "    test = data_transformed[1460:]\n",
        "    rmse_list.append(model_exection(train,test))\n",
        "\n",
        "    test = data_transformed[0:1460]\n",
        "    train = data_transformed[1460:]\n",
        "    rmse_list.append(model_exection(train,test))\n",
        "    \n",
        "  else:\n",
        "    folds = []\n",
        "    # Build the fold boundaries\n",
        "    for i in range(k):\n",
        "      folds.append( [int((data.shape[0]/k)*i) , int((data.shape[0]/k)*(i+1))]  )\n",
        "    print(folds)\n",
        "    # Loop over each fold\n",
        "    for i in range(k):\n",
        "      test = data_transformed.iloc[folds[i][0]:folds[i][1]]\n",
        "      train = data_transformed.iloc[~np.arange(folds[i][0],folds[i][1])]\n",
        "      rmse_list.append(model_exection(train,test))\n",
        "    \n",
        "  return np.mean(rmse_list)\n"
      ],
      "execution_count": 51,
      "outputs": []
    },
    {
      "cell_type": "markdown",
      "metadata": {
        "id": "LCEkabog78VG",
        "colab_type": "text"
      },
      "source": [
        "### Analysis"
      ]
    },
    {
      "cell_type": "markdown",
      "metadata": {
        "id": "x2J_hGWS5XBP",
        "colab_type": "text"
      },
      "source": [
        "Identify an ideal correlation to the target variable."
      ]
    },
    {
      "cell_type": "code",
      "metadata": {
        "id": "iY8jeZclrf-v",
        "colab_type": "code",
        "colab": {
          "base_uri": "https://localhost:8080/",
          "height": 572
        },
        "outputId": "a4a02728-b476-4b74-d52e-790fba147a70"
      },
      "source": [
        "df_temp = transform_features(train)\n",
        "df_temp_numeric = df_temp.select_dtypes(include=['int64','float64'])\n",
        "\n",
        "plt.figure(figsize=(12,6))\n",
        "corr_mtrx = np.abs(df_temp_numeric.corr())\n",
        "# sns.barplot(corr_mtrx['SalePrice'])\n",
        "\n",
        "x = corr_mtrx['SalePrice'].index\n",
        "y = corr_mtrx['SalePrice']\n",
        "ax = sns.barplot(x,y)\n",
        "ax.set_xticklabels(labels=x,rotation=45)\n",
        "plt.axhline(y=.45)\n",
        "plt.show()"
      ],
      "execution_count": 5,
      "outputs": [
        {
          "output_type": "stream",
          "text": [
            "Dropped following features as they are not meaningful predictive features ['Order', 'PID', 'Garage Yr Blt', 'Yr Sold', 'Mo Sold']\n",
            "Dropped following features as they are not meaningful predictive features ['Year Remod/Add', 'Year Built']\n",
            "Dropped following features as they have a weak correlation with SalePrice Index(['MS SubClass', 'Lot Frontage', 'Lot Area', 'Overall Cond',\n",
            "       'BsmtFin SF 2', 'Bsmt Unf SF', '2nd Flr SF', 'Low Qual Fin SF',\n",
            "       'Bsmt Full Bath', 'Bsmt Half Bath', 'Half Bath', 'Bedroom AbvGr',\n",
            "       'Kitchen AbvGr', 'Wood Deck SF', 'Open Porch SF', 'Enclosed Porch',\n",
            "       '3Ssn Porch', 'Screen Porch', 'Pool Area', 'Misc Val',\n",
            "       'years_until_remod'],\n",
            "      dtype='object')\n"
          ],
          "name": "stdout"
        },
        {
          "output_type": "display_data",
          "data": {
            "image/png": "[encoded data removed]",
            "text/plain": [
              "<Figure size 864x432 with 1 Axes>"
            ]
          },
          "metadata": {
            "tags": [],
            "needs_background": "light"
          }
        }
      ]
    },
    {
      "cell_type": "markdown",
      "metadata": {
        "id": "jSzEZf-C_d9m",
        "colab_type": "text"
      },
      "source": [
        "Drop columns that have a weaker correlation that 0.45"
      ]
    },
    {
      "cell_type": "code",
      "metadata": {
        "id": "uAP-qdNV_cjO",
        "colab_type": "code",
        "colab": {
          "base_uri": "https://localhost:8080/",
          "height": 34
        },
        "outputId": "299b233d-ce7b-4dc6-84db-280e93154c6c"
      },
      "source": [
        "corr_mtrx[corr_mtrx['SalePrice'] < 0.45].index"
      ],
      "execution_count": 7,
      "outputs": [
        {
          "output_type": "execute_result",
          "data": {
            "text/plain": [
              "Index([], dtype='object')"
            ]
          },
          "metadata": {
            "tags": []
          },
          "execution_count": 7
        }
      ]
    },
    {
      "cell_type": "markdown",
      "metadata": {
        "id": "Dr3aQEKTBE4b",
        "colab_type": "text"
      },
      "source": [
        "Now let's figure out the threshold to drop columns that have a strong correlation with each other."
      ]
    },
    {
      "cell_type": "code",
      "metadata": {
        "id": "n2slSIYx8AXU",
        "colab_type": "code",
        "colab": {
          "base_uri": "https://localhost:8080/",
          "height": 588
        },
        "outputId": "266c7c99-8b4f-4c8f-ddaf-ea28ca3dbf6a"
      },
      "source": [
        "df_temp = transform_features(train,.05,.45)\n",
        "df_temp_numeric = df_temp.select_dtypes(include=['int64','float64'])\n",
        "\n",
        "strong_ftrs_to_drop = ['Garage Cars','1st Flr SF','TotRms AbvGrd']\n",
        "df_temp_numeric.drop(columns=strong_ftrs_to_drop,inplace=True)\n",
        "# Calculate the correlation matrix\n",
        "corr_mtrx = np.abs(df_temp_numeric.corr())\n",
        "plt.figure(figsize=(12,6))\n",
        "sns.heatmap(corr_mtrx)\n",
        "plt.show()\n"
      ],
      "execution_count": 9,
      "outputs": [
        {
          "output_type": "stream",
          "text": [
            "Dropped following features as they are not meaningful predictive features ['Order', 'PID', 'Garage Yr Blt', 'Yr Sold', 'Mo Sold']\n",
            "Dropped following features as they are not meaningful predictive features ['Year Remod/Add', 'Year Built']\n",
            "Dropped following features as they have a weak correlation with SalePrice Index(['MS SubClass', 'Lot Frontage', 'Lot Area', 'Overall Cond',\n",
            "       'BsmtFin SF 2', 'Bsmt Unf SF', '2nd Flr SF', 'Low Qual Fin SF',\n",
            "       'Bsmt Full Bath', 'Bsmt Half Bath', 'Half Bath', 'Bedroom AbvGr',\n",
            "       'Kitchen AbvGr', 'Wood Deck SF', 'Open Porch SF', 'Enclosed Porch',\n",
            "       '3Ssn Porch', 'Screen Porch', 'Pool Area', 'Misc Val',\n",
            "       'years_until_remod'],\n",
            "      dtype='object')\n"
          ],
          "name": "stdout"
        },
        {
          "output_type": "display_data",
          "data": {
            "image/png": "[encoded data removed]",
            "text/plain": [
              "<Figure size 864x432 with 2 Axes>"
            ]
          },
          "metadata": {
            "tags": [],
            "needs_background": "light"
          }
        }
      ]
    },
    {
      "cell_type": "markdown",
      "metadata": {
        "id": "z-WKp2SZKcKy",
        "colab_type": "text"
      },
      "source": [
        "Let's now focus on non-numeric columns"
      ]
    },
    {
      "cell_type": "code",
      "metadata": {
        "id": "UKqQMJ7VCB1x",
        "colab_type": "code",
        "colab": {
          "base_uri": "https://localhost:8080/",
          "height": 272
        },
        "outputId": "0a06287c-1b51-490d-a0dc-10cec073eb33"
      },
      "source": [
        "df_temp = transform_features(train)\n",
        "categoric_ftrs = df_temp.select_dtypes('object').columns\n",
        "for col in categoric_ftrs:\n",
        "  df_dummy = pd.get_dummies(df_temp[col])\n",
        "  df_temp.drop(columns=[col],inplace=True)\n",
        "  df_temp = pd.concat([df_temp,df_dummy],axis = 1).copy()\n",
        "corr_mtrx = np.abs(df_temp.corr())\n",
        "weak_ftrs_to_drop = corr_mtrx[corr_mtrx['SalePrice'] < .45].index\n",
        "print('Dropped following features as they have a weak correlation with SalePrice',weak_ftrs_to_drop)\n",
        "df_temp.drop(columns=weak_ftrs_to_drop,inplace=True)"
      ],
      "execution_count": 52,
      "outputs": [
        {
          "output_type": "stream",
          "text": [
            "Dropped following features as they are not meaningful predictive features ['Order', 'PID', 'Garage Yr Blt', 'Yr Sold', 'Mo Sold']\n",
            "Dropped following features as they are not meaningful predictive features ['Year Remod/Add', 'Year Built']\n",
            "Dropped following features as they have a weak correlation with SalePrice Index(['MS SubClass', 'Lot Frontage', 'Lot Area', 'Overall Cond',\n",
            "       'BsmtFin SF 2', 'Bsmt Unf SF', '2nd Flr SF', 'Low Qual Fin SF',\n",
            "       'Bsmt Full Bath', 'Bsmt Half Bath', 'Half Bath', 'Bedroom AbvGr',\n",
            "       'Kitchen AbvGr', 'Wood Deck SF', 'Open Porch SF', 'Enclosed Porch',\n",
            "       '3Ssn Porch', 'Screen Porch', 'Pool Area', 'Misc Val',\n",
            "       'years_until_remod'],\n",
            "      dtype='object')\n",
            "Dropped following features as they have a weak correlation with SalePrice Index(['C (all)', 'FV', 'I (all)', 'RH', 'RL', 'RM', 'IR1', 'IR2', 'IR3',\n",
            "       'Reg',\n",
            "       ...\n",
            "       'RFn', 'COD', 'CWD', 'Con', 'ConLD', 'ConLI', 'ConLw', 'New', 'Oth',\n",
            "       'WD '],\n",
            "      dtype='object', length=113)\n"
          ],
          "name": "stdout"
        }
      ]
    },
    {
      "cell_type": "code",
      "metadata": {
        "id": "1oHVS087X6oz",
        "colab_type": "code",
        "colab": {
          "base_uri": "https://localhost:8080/",
          "height": 761
        },
        "outputId": "59526abd-83c7-4ead-8d52-f8f974b878d2"
      },
      "source": [
        "plt.figure(figsize=(12,12))\n",
        "sns.heatmap(df_temp.corr())\n",
        "plt.show()"
      ],
      "execution_count": 53,
      "outputs": [
        {
          "output_type": "display_data",
          "data": {
            "image/png": "[encoded data removed]",
            "text/plain": [
              "<Figure size 864x864 with 2 Axes>"
            ]
          },
          "metadata": {
            "tags": [],
            "needs_background": "light"
          }
        }
      ]
    },
    {
      "cell_type": "code",
      "metadata": {
        "id": "pDgpEa9yU1xV",
        "colab_type": "code",
        "colab": {
          "base_uri": "https://localhost:8080/",
          "height": 636
        },
        "outputId": "4777718e-dc68-4f8e-cba1-25dd80583fd5"
      },
      "source": [
        "train_and_test(data)"
      ],
      "execution_count": 90,
      "outputs": [
        {
          "output_type": "stream",
          "text": [
            "Dropped following features as they are not meaningful predictive features ['Order', 'PID', 'Garage Yr Blt', 'Yr Sold', 'Mo Sold']\n",
            "Dropped following features as they are not meaningful predictive features ['Year Remod/Add', 'Year Built']\n",
            "Dropped following features as they have a weak correlation with SalePrice Index(['MS SubClass', 'Lot Frontage', 'Lot Area', 'Overall Cond',\n",
            "       'BsmtFin SF 1', 'BsmtFin SF 2', 'Bsmt Unf SF', '2nd Flr SF',\n",
            "       'Low Qual Fin SF', 'Bsmt Full Bath', 'Bsmt Half Bath', 'Half Bath',\n",
            "       'Bedroom AbvGr', 'Kitchen AbvGr', 'Wood Deck SF', 'Open Porch SF',\n",
            "       'Enclosed Porch', '3Ssn Porch', 'Screen Porch', 'Pool Area', 'Misc Val',\n",
            "       'years_until_remod'],\n",
            "      dtype='object')\n",
            "********************************************************************************************************************\n",
            "Features used in the final model Index(['Overall Qual', 'Mas Vnr Area', 'Total Bsmt SF', 'Gr Liv Area',\n",
            "       'Fireplaces', 'Garage Area', 'SalePrice', 'AsbShng', 'AsphShn',\n",
            "       'BrkComm', 'BrkFace', 'CBlock', 'CemntBd', 'HdBoard', 'ImStucc',\n",
            "       'MetalSd', 'Plywood', 'PreCast', 'Stone', 'Stucco', 'VinylSd',\n",
            "       'Wd Sdng', 'WdShing', 'AsbShng', 'AsphShn', 'Brk Cmn', 'BrkFace',\n",
            "       'CBlock', 'CmentBd', 'HdBoard', 'ImStucc', 'MetalSd', 'Other',\n",
            "       'Plywood', 'PreCast', 'Stone', 'Stucco', 'VinylSd', 'Wd Sdng',\n",
            "       'Wd Shng', 'ALQ', 'BLQ', 'GLQ', 'LwQ', 'Rec', 'Unf', 'Fin', 'RFn',\n",
            "       'Unf'],\n",
            "      dtype='object')\n"
          ],
          "name": "stdout"
        },
        {
          "output_type": "display_data",
          "data": {
            "image/png": "[encoded data removed]",
            "text/plain": [
              "<Figure size 432x288 with 1 Axes>"
            ]
          },
          "metadata": {
            "tags": [],
            "needs_background": "light"
          }
        },
        {
          "output_type": "execute_result",
          "data": {
            "text/plain": [
              "39991.067765700616"
            ]
          },
          "metadata": {
            "tags": []
          },
          "execution_count": 90
        }
      ]
    },
    {
      "cell_type": "code",
      "metadata": {
        "id": "FhS2ic7RhC9P",
        "colab_type": "code",
        "colab": {
          "base_uri": "https://localhost:8080/",
          "height": 34
        },
        "outputId": "b0bdc95b-d933-40a8-b92c-7b863abfee43"
      },
      "source": [
        "\n",
        "\n",
        "folds = []\n",
        "k = 1\n",
        "for i in range(k):\n",
        "  folds.append( [int((data.shape[0]/k)*i) , int((data.shape[0]/k)*(i+1))]  )\n",
        "\n",
        "\n",
        "folds"
      ],
      "execution_count": 107,
      "outputs": [
        {
          "output_type": "execute_result",
          "data": {
            "text/plain": [
              "[[0, 2930]]"
            ]
          },
          "metadata": {
            "tags": []
          },
          "execution_count": 107
        }
      ]
    },
    {
      "cell_type": "code",
      "metadata": {
        "id": "Gy3lRCfdjO10",
        "colab_type": "code",
        "colab": {
          "base_uri": "https://localhost:8080/",
          "height": 374
        },
        "outputId": "bd813652-c3fe-4d17-f5b3-9d84faf7d281"
      },
      "source": [
        "train_and_test(data,k=0)"
      ],
      "execution_count": 18,
      "outputs": [
        {
          "output_type": "stream",
          "text": [
            "Dropped following features as they are not meaningful predictive features ['Order', 'PID', 'Garage Yr Blt', 'Yr Sold', 'Mo Sold']\n",
            "Dropped following features as they are not meaningful predictive features ['Year Remod/Add', 'Year Built']\n",
            "Dropped following features as they have a weak correlation with SalePrice Index(['MS SubClass', 'Lot Frontage', 'Lot Area', 'Overall Cond',\n",
            "       'BsmtFin SF 1', 'BsmtFin SF 2', 'Bsmt Unf SF', '2nd Flr SF',\n",
            "       'Low Qual Fin SF', 'Bsmt Full Bath', 'Bsmt Half Bath', 'Half Bath',\n",
            "       'Bedroom AbvGr', 'Kitchen AbvGr', 'Wood Deck SF', 'Open Porch SF',\n",
            "       'Enclosed Porch', '3Ssn Porch', 'Screen Porch', 'Pool Area', 'Misc Val',\n",
            "       'years_until_remod'],\n",
            "      dtype='object')\n",
            "********************************************************************************************************************\n",
            "Features used in the final model Index(['Overall Qual', 'Mas Vnr Area', 'Total Bsmt SF', 'Gr Liv Area',\n",
            "       'Fireplaces', 'Garage Area', 'SalePrice', 'AsbShng', 'AsphShn',\n",
            "       'BrkComm', 'BrkFace', 'CBlock', 'CemntBd', 'HdBoard', 'ImStucc',\n",
            "       'MetalSd', 'Plywood', 'PreCast', 'Stone', 'Stucco', 'VinylSd',\n",
            "       'Wd Sdng', 'WdShing', 'AsbShng', 'AsphShn', 'Brk Cmn', 'BrkFace',\n",
            "       'CBlock', 'CmentBd', 'HdBoard', 'ImStucc', 'MetalSd', 'Other',\n",
            "       'Plywood', 'PreCast', 'Stone', 'Stucco', 'VinylSd', 'Wd Sdng',\n",
            "       'Wd Shng', 'ALQ', 'BLQ', 'GLQ', 'LwQ', 'Rec', 'Unf', 'Fin', 'RFn',\n",
            "       'Unf'],\n",
            "      dtype='object')\n"
          ],
          "name": "stdout"
        },
        {
          "output_type": "execute_result",
          "data": {
            "text/plain": [
              "39991.067765700616"
            ]
          },
          "metadata": {
            "tags": []
          },
          "execution_count": 18
        }
      ]
    },
    {
      "cell_type": "code",
      "metadata": {
        "id": "dmhqQc48__Xx",
        "colab_type": "code",
        "colab": {
          "base_uri": "https://localhost:8080/",
          "height": 374
        },
        "outputId": "341bb17d-b1ea-46eb-e239-354cf783644c"
      },
      "source": [
        "train_and_test(data,k=1)"
      ],
      "execution_count": 42,
      "outputs": [
        {
          "output_type": "stream",
          "text": [
            "Dropped following features as they are not meaningful predictive features ['Order', 'PID', 'Garage Yr Blt', 'Yr Sold', 'Mo Sold']\n",
            "Dropped following features as they are not meaningful predictive features ['Year Remod/Add', 'Year Built']\n",
            "Dropped following features as they have a weak correlation with SalePrice Index(['MS SubClass', 'Lot Frontage', 'Lot Area', 'Overall Cond',\n",
            "       'BsmtFin SF 1', 'BsmtFin SF 2', 'Bsmt Unf SF', '2nd Flr SF',\n",
            "       'Low Qual Fin SF', 'Bsmt Full Bath', 'Bsmt Half Bath', 'Half Bath',\n",
            "       'Bedroom AbvGr', 'Kitchen AbvGr', 'Wood Deck SF', 'Open Porch SF',\n",
            "       'Enclosed Porch', '3Ssn Porch', 'Screen Porch', 'Pool Area', 'Misc Val',\n",
            "       'years_until_remod'],\n",
            "      dtype='object')\n",
            "********************************************************************************************************************\n",
            "Features used in the final model Index(['Overall Qual', 'Mas Vnr Area', 'Total Bsmt SF', 'Gr Liv Area',\n",
            "       'Fireplaces', 'Garage Area', 'SalePrice', 'AsbShng', 'AsphShn',\n",
            "       'BrkComm', 'BrkFace', 'CBlock', 'CemntBd', 'HdBoard', 'ImStucc',\n",
            "       'MetalSd', 'Plywood', 'PreCast', 'Stone', 'Stucco', 'VinylSd',\n",
            "       'Wd Sdng', 'WdShing', 'AsbShng', 'AsphShn', 'Brk Cmn', 'BrkFace',\n",
            "       'CBlock', 'CmentBd', 'HdBoard', 'ImStucc', 'MetalSd', 'Other',\n",
            "       'Plywood', 'PreCast', 'Stone', 'Stucco', 'VinylSd', 'Wd Sdng',\n",
            "       'Wd Shng', 'ALQ', 'BLQ', 'GLQ', 'LwQ', 'Rec', 'Unf', 'Fin', 'RFn',\n",
            "       'Unf'],\n",
            "      dtype='object')\n"
          ],
          "name": "stdout"
        },
        {
          "output_type": "execute_result",
          "data": {
            "text/plain": [
              "36289.2796824106"
            ]
          },
          "metadata": {
            "tags": []
          },
          "execution_count": 42
        }
      ]
    },
    {
      "cell_type": "code",
      "metadata": {
        "id": "7GHJONT5AYNo",
        "colab_type": "code",
        "colab": {
          "base_uri": "https://localhost:8080/",
          "height": 391
        },
        "outputId": "db84e6e0-dc8a-4dec-f36a-abf561101868"
      },
      "source": [
        "train_and_test(data,k=8)"
      ],
      "execution_count": 46,
      "outputs": [
        {
          "output_type": "stream",
          "text": [
            "Dropped following features as they are not meaningful predictive features ['Order', 'PID', 'Garage Yr Blt', 'Yr Sold', 'Mo Sold']\n",
            "Dropped following features as they are not meaningful predictive features ['Year Remod/Add', 'Year Built']\n",
            "Dropped following features as they have a weak correlation with SalePrice Index(['MS SubClass', 'Lot Frontage', 'Lot Area', 'Overall Cond',\n",
            "       'BsmtFin SF 1', 'BsmtFin SF 2', 'Bsmt Unf SF', '2nd Flr SF',\n",
            "       'Low Qual Fin SF', 'Bsmt Full Bath', 'Bsmt Half Bath', 'Half Bath',\n",
            "       'Bedroom AbvGr', 'Kitchen AbvGr', 'Wood Deck SF', 'Open Porch SF',\n",
            "       'Enclosed Porch', '3Ssn Porch', 'Screen Porch', 'Pool Area', 'Misc Val',\n",
            "       'years_until_remod'],\n",
            "      dtype='object')\n",
            "********************************************************************************************************************\n",
            "Features used in the final model Index(['Overall Qual', 'Mas Vnr Area', 'Total Bsmt SF', 'Gr Liv Area',\n",
            "       'Fireplaces', 'Garage Area', 'SalePrice', 'AsbShng', 'AsphShn',\n",
            "       'BrkComm', 'BrkFace', 'CBlock', 'CemntBd', 'HdBoard', 'ImStucc',\n",
            "       'MetalSd', 'Plywood', 'PreCast', 'Stone', 'Stucco', 'VinylSd',\n",
            "       'Wd Sdng', 'WdShing', 'AsbShng', 'AsphShn', 'Brk Cmn', 'BrkFace',\n",
            "       'CBlock', 'CmentBd', 'HdBoard', 'ImStucc', 'MetalSd', 'Other',\n",
            "       'Plywood', 'PreCast', 'Stone', 'Stucco', 'VinylSd', 'Wd Sdng',\n",
            "       'Wd Shng', 'ALQ', 'BLQ', 'GLQ', 'LwQ', 'Rec', 'Unf', 'Fin', 'RFn',\n",
            "       'Unf'],\n",
            "      dtype='object')\n",
            "[[0, 366], [366, 732], [732, 1098], [1098, 1465], [1465, 1831], [1831, 2197], [2197, 2563], [2563, 2930]]\n"
          ],
          "name": "stdout"
        },
        {
          "output_type": "execute_result",
          "data": {
            "text/plain": [
              "39514.48800988018"
            ]
          },
          "metadata": {
            "tags": []
          },
          "execution_count": 46
        }
      ]
    },
    {
      "cell_type": "markdown",
      "metadata": {
        "id": "EUWIsgGKETkM",
        "colab_type": "text"
      },
      "source": [
        "### Execute final model"
      ]
    },
    {
      "cell_type": "code",
      "metadata": {
        "id": "bm6BcMQREWGX",
        "colab_type": "code",
        "colab": {
          "base_uri": "https://localhost:8080/",
          "height": 391
        },
        "outputId": "f0dbeae6-de97-4898-b9ab-398f6557650c"
      },
      "source": [
        "train_and_test(data,k=10)"
      ],
      "execution_count": 52,
      "outputs": [
        {
          "output_type": "stream",
          "text": [
            "Dropped following features as they are not meaningful predictive features ['Order', 'PID', 'Garage Yr Blt', 'Yr Sold', 'Mo Sold']\n",
            "Dropped following features as they are not meaningful predictive features ['Year Remod/Add', 'Year Built']\n",
            "Dropped following features as they have a weak correlation with SalePrice Index(['MS SubClass', 'Lot Frontage', 'Lot Area', 'Overall Cond',\n",
            "       'BsmtFin SF 1', 'BsmtFin SF 2', 'Bsmt Unf SF', '2nd Flr SF',\n",
            "       'Low Qual Fin SF', 'Bsmt Full Bath', 'Bsmt Half Bath', 'Half Bath',\n",
            "       'Bedroom AbvGr', 'Kitchen AbvGr', 'Wood Deck SF', 'Open Porch SF',\n",
            "       'Enclosed Porch', '3Ssn Porch', 'Screen Porch', 'Pool Area', 'Misc Val',\n",
            "       'years_until_remod'],\n",
            "      dtype='object')\n",
            "********************************************************************************************************************\n",
            "Features used in the final model Index(['Overall Qual', 'Mas Vnr Area', 'Total Bsmt SF', 'Gr Liv Area',\n",
            "       'Fireplaces', 'Garage Area', 'SalePrice', 'AsbShng', 'AsphShn',\n",
            "       'BrkComm', 'BrkFace', 'CBlock', 'CemntBd', 'HdBoard', 'ImStucc',\n",
            "       'MetalSd', 'Plywood', 'PreCast', 'Stone', 'Stucco', 'VinylSd',\n",
            "       'Wd Sdng', 'WdShing', 'AsbShng', 'AsphShn', 'Brk Cmn', 'BrkFace',\n",
            "       'CBlock', 'CmentBd', 'HdBoard', 'ImStucc', 'MetalSd', 'Other',\n",
            "       'Plywood', 'PreCast', 'Stone', 'Stucco', 'VinylSd', 'Wd Sdng',\n",
            "       'Wd Shng', 'ALQ', 'BLQ', 'GLQ', 'LwQ', 'Rec', 'Unf', 'Fin', 'RFn',\n",
            "       'Unf'],\n",
            "      dtype='object')\n",
            "[[0, 293], [293, 586], [586, 879], [879, 1172], [1172, 1465], [1465, 1758], [1758, 2051], [2051, 2344], [2344, 2637], [2637, 2930]]\n"
          ],
          "name": "stdout"
        },
        {
          "output_type": "execute_result",
          "data": {
            "text/plain": [
              "37862.10800774566"
            ]
          },
          "metadata": {
            "tags": []
          },
          "execution_count": 52
        }
      ]
    }
  ]
}