{
  "nbformat": 4,
  "nbformat_minor": 0,
  "metadata": {
    "colab": {
      "name": "DQ - Predicting Bike Rentals.ipynb",
      "provenance": [],
      "collapsed_sections": [],
      "mount_file_id": "18niZEuhP7Bd60mCzJ7dqKza6LEcr3Z9X",
      "authorship_tag": "ABX9TyPToXmKRxUACJf4lwIAa/A+",
      "include_colab_link": true
    },
    "kernelspec": {
      "name": "python3",
      "display_name": "Python 3"
    }
  },
  "cells": [
    {
      "cell_type": "markdown",
      "metadata": {
        "id": "view-in-github",
        "colab_type": "text"
      },
      "source": [
        "<a href=\"https://colab.research.google.com/github/prabhudc/DQ/blob/master/Predicting_Bike_Rentals.ipynb\" target=\"_parent\"><img src=\"https://colab.research.google.com/assets/colab-badge.svg\" alt=\"Open In Colab\"/></a>"
      ]
    },
    {
      "cell_type": "markdown",
      "metadata": {
        "id": "7scBiYtnGGUd",
        "colab_type": "text"
      },
      "source": [
        "# Bike Rental Prediction\n",
        "\n",
        "This project attempts to build a model that predict bike rentals. The dataset is a hourly consisting of features such as the season, weather, temperation, windspeed etc."
      ]
    },
    {
      "cell_type": "code",
      "metadata": {
        "id": "fUDA5pzXFFIf",
        "colab_type": "code",
        "colab": {}
      },
      "source": [
        "# The usual suspects\n",
        "import pandas as pd\n",
        "import numpy as np\n",
        "import csv\n",
        "import math\n",
        "\n",
        "# Plotting\n",
        "import matplotlib.pyplot as plt\n",
        "import seaborn as sns\n",
        "\n",
        "# Modelling\n",
        "from sklearn.linear_model import LinearRegression\n",
        "from sklearn.tree import DecisionTreeClassifier, DecisionTreeRegressor\n",
        "from sklearn.ensemble import RandomForestClassifier, RandomForestRegressor\n"
      ],
      "execution_count": 187,
      "outputs": []
    },
    {
      "cell_type": "code",
      "metadata": {
        "id": "FmU9ttICFoMg",
        "colab_type": "code",
        "colab": {
          "base_uri": "https://localhost:8080/",
          "height": 198
        },
        "outputId": "bd809e77-4ccf-4af7-ee79-9d0917adc118"
      },
      "source": [
        "bike_rentals = pd.read_csv(\"/content/drive/My Drive/DataScience/files/hour-bike-sharing.csv\")\n",
        "bike_rentals.sample(n=5)"
      ],
      "execution_count": 118,
      "outputs": [
        {
          "output_type": "execute_result",
          "data": {
            "text/html": [
              "<div>\n",
              "<style scoped>\n",
              "    .dataframe tbody tr th:only-of-type {\n",
              "        vertical-align: middle;\n",
              "    }\n",
              "\n",
              "    .dataframe tbody tr th {\n",
              "        vertical-align: top;\n",
              "    }\n",
              "\n",
              "    .dataframe thead th {\n",
              "        text-align: right;\n",
              "    }\n",
              "</style>\n",
              "<table border=\"1\" class=\"dataframe\">\n",
              "  <thead>\n",
              "    <tr style=\"text-align: right;\">\n",
              "      <th></th>\n",
              "      <th>instant</th>\n",
              "      <th>dteday</th>\n",
              "      <th>season</th>\n",
              "      <th>yr</th>\n",
              "      <th>mnth</th>\n",
              "      <th>hr</th>\n",
              "      <th>holiday</th>\n",
              "      <th>weekday</th>\n",
              "      <th>workingday</th>\n",
              "      <th>weathersit</th>\n",
              "      <th>temp</th>\n",
              "      <th>atemp</th>\n",
              "      <th>hum</th>\n",
              "      <th>windspeed</th>\n",
              "      <th>casual</th>\n",
              "      <th>registered</th>\n",
              "      <th>cnt</th>\n",
              "    </tr>\n",
              "  </thead>\n",
              "  <tbody>\n",
              "    <tr>\n",
              "      <th>5852</th>\n",
              "      <td>5853</td>\n",
              "      <td>2011-09-06</td>\n",
              "      <td>3</td>\n",
              "      <td>0</td>\n",
              "      <td>9</td>\n",
              "      <td>8</td>\n",
              "      <td>0</td>\n",
              "      <td>2</td>\n",
              "      <td>1</td>\n",
              "      <td>3</td>\n",
              "      <td>0.54</td>\n",
              "      <td>0.5152</td>\n",
              "      <td>0.83</td>\n",
              "      <td>0.3881</td>\n",
              "      <td>15</td>\n",
              "      <td>349</td>\n",
              "      <td>364</td>\n",
              "    </tr>\n",
              "    <tr>\n",
              "      <th>9326</th>\n",
              "      <td>9327</td>\n",
              "      <td>2012-01-29</td>\n",
              "      <td>1</td>\n",
              "      <td>1</td>\n",
              "      <td>1</td>\n",
              "      <td>12</td>\n",
              "      <td>0</td>\n",
              "      <td>0</td>\n",
              "      <td>0</td>\n",
              "      <td>1</td>\n",
              "      <td>0.32</td>\n",
              "      <td>0.3030</td>\n",
              "      <td>0.26</td>\n",
              "      <td>0.2239</td>\n",
              "      <td>73</td>\n",
              "      <td>215</td>\n",
              "      <td>288</td>\n",
              "    </tr>\n",
              "    <tr>\n",
              "      <th>14865</th>\n",
              "      <td>14866</td>\n",
              "      <td>2012-09-16</td>\n",
              "      <td>3</td>\n",
              "      <td>1</td>\n",
              "      <td>9</td>\n",
              "      <td>14</td>\n",
              "      <td>0</td>\n",
              "      <td>0</td>\n",
              "      <td>0</td>\n",
              "      <td>1</td>\n",
              "      <td>0.66</td>\n",
              "      <td>0.6212</td>\n",
              "      <td>0.39</td>\n",
              "      <td>0.1343</td>\n",
              "      <td>225</td>\n",
              "      <td>410</td>\n",
              "      <td>635</td>\n",
              "    </tr>\n",
              "    <tr>\n",
              "      <th>5104</th>\n",
              "      <td>5105</td>\n",
              "      <td>2011-08-05</td>\n",
              "      <td>3</td>\n",
              "      <td>0</td>\n",
              "      <td>8</td>\n",
              "      <td>14</td>\n",
              "      <td>0</td>\n",
              "      <td>5</td>\n",
              "      <td>1</td>\n",
              "      <td>2</td>\n",
              "      <td>0.78</td>\n",
              "      <td>0.7121</td>\n",
              "      <td>0.52</td>\n",
              "      <td>0.2537</td>\n",
              "      <td>81</td>\n",
              "      <td>164</td>\n",
              "      <td>245</td>\n",
              "    </tr>\n",
              "    <tr>\n",
              "      <th>6630</th>\n",
              "      <td>6631</td>\n",
              "      <td>2011-10-08</td>\n",
              "      <td>4</td>\n",
              "      <td>0</td>\n",
              "      <td>10</td>\n",
              "      <td>20</td>\n",
              "      <td>0</td>\n",
              "      <td>6</td>\n",
              "      <td>0</td>\n",
              "      <td>1</td>\n",
              "      <td>0.52</td>\n",
              "      <td>0.5000</td>\n",
              "      <td>0.77</td>\n",
              "      <td>0.1045</td>\n",
              "      <td>78</td>\n",
              "      <td>124</td>\n",
              "      <td>202</td>\n",
              "    </tr>\n",
              "  </tbody>\n",
              "</table>\n",
              "</div>"
            ],
            "text/plain": [
              "       instant      dteday  season  yr  ...  windspeed  casual  registered  cnt\n",
              "5852      5853  2011-09-06       3   0  ...     0.3881      15         349  364\n",
              "9326      9327  2012-01-29       1   1  ...     0.2239      73         215  288\n",
              "14865    14866  2012-09-16       3   1  ...     0.1343     225         410  635\n",
              "5104      5105  2011-08-05       3   0  ...     0.2537      81         164  245\n",
              "6630      6631  2011-10-08       4   0  ...     0.1045      78         124  202\n",
              "\n",
              "[5 rows x 17 columns]"
            ]
          },
          "metadata": {
            "tags": []
          },
          "execution_count": 118
        }
      ]
    },
    {
      "cell_type": "markdown",
      "metadata": {
        "id": "p-k4NDjcJIqd",
        "colab_type": "text"
      },
      "source": [
        "## Data Exploration and Preperation"
      ]
    },
    {
      "cell_type": "code",
      "metadata": {
        "id": "43LJ0kwcF4O0",
        "colab_type": "code",
        "colab": {
          "base_uri": "https://localhost:8080/",
          "height": 265
        },
        "outputId": "e7c9c683-32f2-4ee1-9885-270215e21a5a"
      },
      "source": [
        "bike_rentals['cnt'].plot.hist()\n",
        "plt.show()"
      ],
      "execution_count": 119,
      "outputs": [
        {
          "output_type": "display_data",
          "data": {
            "image/png": "[encoded data removed]",
            "text/plain": [
              "<Figure size 432x288 with 1 Axes>"
            ]
          },
          "metadata": {
            "tags": [],
            "needs_background": "light"
          }
        }
      ]
    },
    {
      "cell_type": "markdown",
      "metadata": {
        "id": "eoYRaY38HL3b",
        "colab_type": "text"
      },
      "source": [
        "Understand the correlation of each column with cnt"
      ]
    },
    {
      "cell_type": "code",
      "metadata": {
        "id": "qX4hJVFzHQqT",
        "colab_type": "code",
        "colab": {
          "base_uri": "https://localhost:8080/",
          "height": 313
        },
        "outputId": "02167863-1968-4be9-bfef-4c7218f9fbb6"
      },
      "source": [
        "# la\n",
        "corr_cnt = np.abs(bike_rentals.corr()['cnt'])\n",
        "x = corr_cnt.index\n",
        "h = corr_cnt\n",
        "\n",
        "plt.bar(x,h,color=\"maroon\")\n",
        "plt.xticks(rotation=90)\n",
        "\n",
        "plt.show()\n"
      ],
      "execution_count": 120,
      "outputs": [
        {
          "output_type": "display_data",
          "data": {
            "image/png": "[encoded data removed]",
            "text/plain": [
              "<Figure size 432x288 with 1 Axes>"
            ]
          },
          "metadata": {
            "tags": [],
            "needs_background": "light"
          }
        }
      ]
    },
    {
      "cell_type": "code",
      "metadata": {
        "id": "LtDsmIwiPo7X",
        "colab_type": "code",
        "colab": {
          "base_uri": "https://localhost:8080/",
          "height": 643
        },
        "outputId": "bb9e2bf7-0f36-446d-c0fd-0c5b3d671c0f"
      },
      "source": [
        "plt.figure(figsize=(12,10))\n",
        "sns.heatmap(bike_rentals.corr())\n",
        "plt.show()"
      ],
      "execution_count": 121,
      "outputs": [
        {
          "output_type": "display_data",
          "data": {
            "image/png": "[encoded data removed]",
            "text/plain": [
              "<Figure size 864x720 with 2 Axes>"
            ]
          },
          "metadata": {
            "tags": [],
            "needs_background": "light"
          }
        }
      ]
    },
    {
      "cell_type": "code",
      "metadata": {
        "id": "Umvl0Mm-Itnb",
        "colab_type": "code",
        "colab": {}
      },
      "source": [
        "def assign_label(hr) :\n",
        "  if hr in range(6,12):\n",
        "    return 1\n",
        "  elif hr in range(12,18):\n",
        "    return 2\n",
        "  elif hr in range(18,24) :\n",
        "    return 3\n",
        "  else :\n",
        "    return 4\n",
        "bike_rentals['time_label'] = bike_rentals['hr'].apply(assign_label)"
      ],
      "execution_count": 122,
      "outputs": []
    },
    {
      "cell_type": "markdown",
      "metadata": {
        "id": "8G8NspKRK4xO",
        "colab_type": "text"
      },
      "source": [
        "## Modelling"
      ]
    },
    {
      "cell_type": "code",
      "metadata": {
        "id": "1UwNbgecKVeq",
        "colab_type": "code",
        "colab": {
          "base_uri": "https://localhost:8080/",
          "height": 54
        },
        "outputId": "d747dcff-ff67-462e-93a3-4d4f05ac88ef"
      },
      "source": [
        "train_size = 0.8\n",
        "# Shuffle the dataset\n",
        "bike_rentals = bike_rentals.iloc[np.random.choice(bike_rentals.index,bike_rentals.shape[0])]\n",
        "# drop the index\n",
        "bike_rentals.reset_index(inplace=True,drop=True)\n",
        "\n",
        "# Create train/test split\n",
        "train = bike_rentals.iloc[:math.floor(train_size*bike_rentals.shape[0])]\n",
        "test = bike_rentals.iloc[math.floor(train_size*bike_rentals.shape[0]):]\n",
        "\n",
        "\n",
        "print(\"Size of training set : \", train.shape[0], \" with split percentage \" , np.round(100*train.shape[0]/bike_rentals.shape[0],2) )\n",
        "print(\"Size of testing set : \", \" with split percentage \" , np.round(100*test.shape[0]/bike_rentals.shape[0],2) )"
      ],
      "execution_count": 123,
      "outputs": [
        {
          "output_type": "stream",
          "text": [
            "Size of training set :  13903  with split percentage  80.0\n",
            "Size of testing set :   with split percentage  20.0\n"
          ],
          "name": "stdout"
        }
      ]
    },
    {
      "cell_type": "markdown",
      "metadata": {
        "id": "zQ4NHLidU43r",
        "colab_type": "text"
      },
      "source": [
        "Ignoring the following columns\n",
        "  * humidity - has weak correlation with the target variable\n",
        "  * workingday and casual are correlated, but workingday is relatively weakly\n",
        "       correlated with the target. Hence droping workingday. \n",
        "  * instant - just numerical counter\n",
        "  * dteday - Day , information is already encoded in other fields\n",
        "  * yr - Does not help with prediction\n",
        "  * temp - feeling termperature has been included, hence can ignore this\n",
        "  * casual - reveals the output variable\n",
        "  * registered - reveals the output variable"
      ]
    },
    {
      "cell_type": "code",
      "metadata": {
        "id": "V0UNYpuFOOX6",
        "colab_type": "code",
        "colab": {}
      },
      "source": [
        "# drop_cols = ['hum','workingday','instant','dteday','yr','temp','casual', 'registered' ]\n",
        "drop_cols = ['casual', 'registered', 'dteday' ]\n",
        "columns = bike_rentals.columns[~bike_rentals.columns.isin(drop_cols)]\n",
        "\n",
        "train = train[columns]\n",
        "test =  test[columns]\n",
        "\n",
        "\n",
        "# Create X/y\n",
        "X_train = train[train.columns[train.columns != 'cnt' ]]\n",
        "y_train = train['cnt']\n",
        "\n",
        "X_test = test[test.columns[test.columns != 'cnt' ]]\n",
        "y_test = test['cnt']\n"
      ],
      "execution_count": 124,
      "outputs": []
    },
    {
      "cell_type": "markdown",
      "metadata": {
        "id": "G6VNvvacScz6",
        "colab_type": "text"
      },
      "source": [
        "### Apply Linear Regression"
      ]
    },
    {
      "cell_type": "code",
      "metadata": {
        "id": "gIphIENcSODx",
        "colab_type": "code",
        "colab": {
          "base_uri": "https://localhost:8080/",
          "height": 35
        },
        "outputId": "b73b4948-58be-4363-ef2c-d6053a41eea7"
      },
      "source": [
        "# Instantiate\n",
        "linear_model = LinearRegression()\n",
        "\n",
        "# Fit\n",
        "linear_model.fit(X_train, y_train)\n",
        "\n",
        "# Predict\n",
        "y_pred = linear_model.predict(X_test)\n",
        "\n",
        "# Error measurement - MSE\n",
        "mse = np.mean((y_pred  - y_test )**2)\n",
        "print(mse)\n"
      ],
      "execution_count": 125,
      "outputs": [
        {
          "output_type": "stream",
          "text": [
            "16856.116683758428\n"
          ],
          "name": "stdout"
        }
      ]
    },
    {
      "cell_type": "markdown",
      "metadata": {
        "id": "M68c41GzXQOF",
        "colab_type": "text"
      },
      "source": [
        "### Apply Decision Tree"
      ]
    },
    {
      "cell_type": "code",
      "metadata": {
        "id": "tWmkuzGbUI3x",
        "colab_type": "code",
        "colab": {
          "base_uri": "https://localhost:8080/",
          "height": 35
        },
        "outputId": "0f19bc42-9904-4d65-dc3a-725e4dbbf026"
      },
      "source": [
        "# Instantiate \n",
        "dt_model = DecisionTreeRegressor( min_samples_leaf=2, max_features=\"auto\" )\n",
        "\n",
        "# Fit\n",
        "dt_model.fit(X_train, y_train)\n",
        "\n",
        "# Predict\n",
        "y_pred = dt_model.predict(X_test)\n",
        "\n",
        "# Error measurement - MSE\n",
        "mse = np.mean((y_pred  - y_test )**2)\n",
        "print(mse)"
      ],
      "execution_count": 186,
      "outputs": [
        {
          "output_type": "stream",
          "text": [
            "1514.0899017069428\n"
          ],
          "name": "stdout"
        }
      ]
    },
    {
      "cell_type": "markdown",
      "metadata": {
        "id": "3k6Cy_YnZGLZ",
        "colab_type": "text"
      },
      "source": [
        "### Apply Random Forest"
      ]
    },
    {
      "cell_type": "code",
      "metadata": {
        "id": "wtaGXLyGZTbt",
        "colab_type": "code",
        "colab": {
          "base_uri": "https://localhost:8080/",
          "height": 35
        },
        "outputId": "9f4fa629-8b89-42f6-864f-63db0d03a473"
      },
      "source": [
        "# Instantiate \n",
        "rf_model = RandomForestRegressor(  n_estimators=100)\n",
        "\n",
        "# Fit\n",
        "rf_model.fit(X_train, y_train)\n",
        "\n",
        "# Predict\n",
        "y_pred = rf_model.predict(X_test)\n",
        "\n",
        "# Error measurement - MSE\n",
        "mse = np.mean((y_pred  - y_test )**2)\n",
        "print(mse)"
      ],
      "execution_count": 227,
      "outputs": [
        {
          "output_type": "stream",
          "text": [
            "840.5650796605296\n"
          ],
          "name": "stdout"
        }
      ]
    },
    {
      "cell_type": "markdown",
      "metadata": {
        "id": "ZA3-7mpubZNt",
        "colab_type": "text"
      },
      "source": [
        "## Summary\n",
        "\n",
        "On comparing three modelling techniques - \n",
        "* Linear Regression\n",
        "* Decision Tree\n",
        "* Random Forest\n",
        "\n",
        "The models demonstrated improvement in MSE in the following order\n",
        "\n",
        "Linear Regression (16856) > Decision Tree (1514) >> Random Forest (840)\n",
        "\n",
        "\n",
        "\n",
        "---\n",
        "\n",
        "\n"
      ]
    }
  ]
}