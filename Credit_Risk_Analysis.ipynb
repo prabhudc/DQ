{
  "nbformat": 4,
  "nbformat_minor": 0,
  "metadata": {
    "colab": {
      "name": "Credit Risk Analysis.ipynb",
      "provenance": [],
      "collapsed_sections": [],
      "toc_visible": true,
      "mount_file_id": "12yOj_y5jv24fFd9dp7k_C1nGqt8Ww9S4",
      "authorship_tag": "ABX9TyOEUeI/Pk4YiWAdXm0UeIiJ",
      "include_colab_link": true
    },
    "kernelspec": {
      "name": "python3",
      "display_name": "Python 3"
    }
  },
  "cells": [
    {
      "cell_type": "markdown",
      "metadata": {
        "id": "view-in-github",
        "colab_type": "text"
      },
      "source": [
        "<a href=\"https://colab.research.google.com/github/prabhudc/DQ/blob/master/Credit_Risk_Analysis.ipynb\" target=\"_parent\"><img src=\"https://colab.research.google.com/assets/colab-badge.svg\" alt=\"Open In Colab\"/></a>"
      ]
    },
    {
      "cell_type": "markdown",
      "metadata": {
        "id": "XOkTactmR4Aj",
        "colab_type": "text"
      },
      "source": [
        "# Credit Risk Analysis\n",
        "\n",
        "In this project we analysze and attempt at predicting the likelihood of a borrower being able to pay off a loan on time"
      ]
    },
    {
      "cell_type": "code",
      "metadata": {
        "id": "YxU7S7PjR2Q1",
        "colab_type": "code",
        "colab": {}
      },
      "source": [
        "# The usual suspects\n",
        "import pandas as pd\n",
        "import warnings\n",
        "warnings.filterwarnings('ignore')\n",
        "\n",
        "# Modelling\n",
        "from sklearn.linear_model import LogisticRegression\n",
        "from sklearn.model_selection import cross_val_predict\n",
        "from sklearn.ensemble import RandomForestClassifier\n"
      ],
      "execution_count": 61,
      "outputs": []
    },
    {
      "cell_type": "code",
      "metadata": {
        "id": "4uWDgc22TfZI",
        "colab_type": "code",
        "colab": {
          "base_uri": "https://localhost:8080/",
          "height": 393
        },
        "outputId": "43a81185-8b75-44d3-a05d-2aa16f664327"
      },
      "source": [
        "loans_2007 = pd.read_csv('/content/drive/My Drive/DataScience/files/loans_2007.csv')\n",
        "loans_2007.head()"
      ],
      "execution_count": 2,
      "outputs": [
        {
          "output_type": "stream",
          "text": [
            "/usr/local/lib/python3.6/dist-packages/IPython/core/interactiveshell.py:2718: DtypeWarning: Columns (0) have mixed types.Specify dtype option on import or set low_memory=False.\n",
            "  interactivity=interactivity, compiler=compiler, result=result)\n"
          ],
          "name": "stderr"
        },
        {
          "output_type": "execute_result",
          "data": {
            "text/html": [
              "<div>\n",
              "<style scoped>\n",
              "    .dataframe tbody tr th:only-of-type {\n",
              "        vertical-align: middle;\n",
              "    }\n",
              "\n",
              "    .dataframe tbody tr th {\n",
              "        vertical-align: top;\n",
              "    }\n",
              "\n",
              "    .dataframe thead th {\n",
              "        text-align: right;\n",
              "    }\n",
              "</style>\n",
              "<table border=\"1\" class=\"dataframe\">\n",
              "  <thead>\n",
              "    <tr style=\"text-align: right;\">\n",
              "      <th></th>\n",
              "      <th>id</th>\n",
              "      <th>member_id</th>\n",
              "      <th>loan_amnt</th>\n",
              "      <th>funded_amnt</th>\n",
              "      <th>funded_amnt_inv</th>\n",
              "      <th>term</th>\n",
              "      <th>int_rate</th>\n",
              "      <th>installment</th>\n",
              "      <th>grade</th>\n",
              "      <th>sub_grade</th>\n",
              "      <th>emp_title</th>\n",
              "      <th>emp_length</th>\n",
              "      <th>home_ownership</th>\n",
              "      <th>annual_inc</th>\n",
              "      <th>verification_status</th>\n",
              "      <th>issue_d</th>\n",
              "      <th>loan_status</th>\n",
              "      <th>pymnt_plan</th>\n",
              "      <th>purpose</th>\n",
              "      <th>title</th>\n",
              "      <th>zip_code</th>\n",
              "      <th>addr_state</th>\n",
              "      <th>dti</th>\n",
              "      <th>delinq_2yrs</th>\n",
              "      <th>earliest_cr_line</th>\n",
              "      <th>inq_last_6mths</th>\n",
              "      <th>open_acc</th>\n",
              "      <th>pub_rec</th>\n",
              "      <th>revol_bal</th>\n",
              "      <th>revol_util</th>\n",
              "      <th>total_acc</th>\n",
              "      <th>initial_list_status</th>\n",
              "      <th>out_prncp</th>\n",
              "      <th>out_prncp_inv</th>\n",
              "      <th>total_pymnt</th>\n",
              "      <th>total_pymnt_inv</th>\n",
              "      <th>total_rec_prncp</th>\n",
              "      <th>total_rec_int</th>\n",
              "      <th>total_rec_late_fee</th>\n",
              "      <th>recoveries</th>\n",
              "      <th>collection_recovery_fee</th>\n",
              "      <th>last_pymnt_d</th>\n",
              "      <th>last_pymnt_amnt</th>\n",
              "      <th>last_credit_pull_d</th>\n",
              "      <th>collections_12_mths_ex_med</th>\n",
              "      <th>policy_code</th>\n",
              "      <th>application_type</th>\n",
              "      <th>acc_now_delinq</th>\n",
              "      <th>chargeoff_within_12_mths</th>\n",
              "      <th>delinq_amnt</th>\n",
              "      <th>pub_rec_bankruptcies</th>\n",
              "      <th>tax_liens</th>\n",
              "    </tr>\n",
              "  </thead>\n",
              "  <tbody>\n",
              "    <tr>\n",
              "      <th>0</th>\n",
              "      <td>1077501</td>\n",
              "      <td>1296599.0</td>\n",
              "      <td>5000.0</td>\n",
              "      <td>5000.0</td>\n",
              "      <td>4975.0</td>\n",
              "      <td>36 months</td>\n",
              "      <td>10.65%</td>\n",
              "      <td>162.87</td>\n",
              "      <td>B</td>\n",
              "      <td>B2</td>\n",
              "      <td>NaN</td>\n",
              "      <td>10+ years</td>\n",
              "      <td>RENT</td>\n",
              "      <td>24000.0</td>\n",
              "      <td>Verified</td>\n",
              "      <td>Dec-2011</td>\n",
              "      <td>Fully Paid</td>\n",
              "      <td>n</td>\n",
              "      <td>credit_card</td>\n",
              "      <td>Computer</td>\n",
              "      <td>860xx</td>\n",
              "      <td>AZ</td>\n",
              "      <td>27.65</td>\n",
              "      <td>0.0</td>\n",
              "      <td>Jan-1985</td>\n",
              "      <td>1.0</td>\n",
              "      <td>3.0</td>\n",
              "      <td>0.0</td>\n",
              "      <td>13648.0</td>\n",
              "      <td>83.7%</td>\n",
              "      <td>9.0</td>\n",
              "      <td>f</td>\n",
              "      <td>0.00</td>\n",
              "      <td>0.00</td>\n",
              "      <td>5863.155187</td>\n",
              "      <td>5833.84</td>\n",
              "      <td>5000.00</td>\n",
              "      <td>863.16</td>\n",
              "      <td>0.00</td>\n",
              "      <td>0.00</td>\n",
              "      <td>0.00</td>\n",
              "      <td>Jan-2015</td>\n",
              "      <td>171.62</td>\n",
              "      <td>Jun-2016</td>\n",
              "      <td>0.0</td>\n",
              "      <td>1.0</td>\n",
              "      <td>INDIVIDUAL</td>\n",
              "      <td>0.0</td>\n",
              "      <td>0.0</td>\n",
              "      <td>0.0</td>\n",
              "      <td>0.0</td>\n",
              "      <td>0.0</td>\n",
              "    </tr>\n",
              "    <tr>\n",
              "      <th>1</th>\n",
              "      <td>1077430</td>\n",
              "      <td>1314167.0</td>\n",
              "      <td>2500.0</td>\n",
              "      <td>2500.0</td>\n",
              "      <td>2500.0</td>\n",
              "      <td>60 months</td>\n",
              "      <td>15.27%</td>\n",
              "      <td>59.83</td>\n",
              "      <td>C</td>\n",
              "      <td>C4</td>\n",
              "      <td>Ryder</td>\n",
              "      <td>&lt; 1 year</td>\n",
              "      <td>RENT</td>\n",
              "      <td>30000.0</td>\n",
              "      <td>Source Verified</td>\n",
              "      <td>Dec-2011</td>\n",
              "      <td>Charged Off</td>\n",
              "      <td>n</td>\n",
              "      <td>car</td>\n",
              "      <td>bike</td>\n",
              "      <td>309xx</td>\n",
              "      <td>GA</td>\n",
              "      <td>1.00</td>\n",
              "      <td>0.0</td>\n",
              "      <td>Apr-1999</td>\n",
              "      <td>5.0</td>\n",
              "      <td>3.0</td>\n",
              "      <td>0.0</td>\n",
              "      <td>1687.0</td>\n",
              "      <td>9.4%</td>\n",
              "      <td>4.0</td>\n",
              "      <td>f</td>\n",
              "      <td>0.00</td>\n",
              "      <td>0.00</td>\n",
              "      <td>1008.710000</td>\n",
              "      <td>1008.71</td>\n",
              "      <td>456.46</td>\n",
              "      <td>435.17</td>\n",
              "      <td>0.00</td>\n",
              "      <td>117.08</td>\n",
              "      <td>1.11</td>\n",
              "      <td>Apr-2013</td>\n",
              "      <td>119.66</td>\n",
              "      <td>Sep-2013</td>\n",
              "      <td>0.0</td>\n",
              "      <td>1.0</td>\n",
              "      <td>INDIVIDUAL</td>\n",
              "      <td>0.0</td>\n",
              "      <td>0.0</td>\n",
              "      <td>0.0</td>\n",
              "      <td>0.0</td>\n",
              "      <td>0.0</td>\n",
              "    </tr>\n",
              "    <tr>\n",
              "      <th>2</th>\n",
              "      <td>1077175</td>\n",
              "      <td>1313524.0</td>\n",
              "      <td>2400.0</td>\n",
              "      <td>2400.0</td>\n",
              "      <td>2400.0</td>\n",
              "      <td>36 months</td>\n",
              "      <td>15.96%</td>\n",
              "      <td>84.33</td>\n",
              "      <td>C</td>\n",
              "      <td>C5</td>\n",
              "      <td>NaN</td>\n",
              "      <td>10+ years</td>\n",
              "      <td>RENT</td>\n",
              "      <td>12252.0</td>\n",
              "      <td>Not Verified</td>\n",
              "      <td>Dec-2011</td>\n",
              "      <td>Fully Paid</td>\n",
              "      <td>n</td>\n",
              "      <td>small_business</td>\n",
              "      <td>real estate business</td>\n",
              "      <td>606xx</td>\n",
              "      <td>IL</td>\n",
              "      <td>8.72</td>\n",
              "      <td>0.0</td>\n",
              "      <td>Nov-2001</td>\n",
              "      <td>2.0</td>\n",
              "      <td>2.0</td>\n",
              "      <td>0.0</td>\n",
              "      <td>2956.0</td>\n",
              "      <td>98.5%</td>\n",
              "      <td>10.0</td>\n",
              "      <td>f</td>\n",
              "      <td>0.00</td>\n",
              "      <td>0.00</td>\n",
              "      <td>3005.666844</td>\n",
              "      <td>3005.67</td>\n",
              "      <td>2400.00</td>\n",
              "      <td>605.67</td>\n",
              "      <td>0.00</td>\n",
              "      <td>0.00</td>\n",
              "      <td>0.00</td>\n",
              "      <td>Jun-2014</td>\n",
              "      <td>649.91</td>\n",
              "      <td>Jun-2016</td>\n",
              "      <td>0.0</td>\n",
              "      <td>1.0</td>\n",
              "      <td>INDIVIDUAL</td>\n",
              "      <td>0.0</td>\n",
              "      <td>0.0</td>\n",
              "      <td>0.0</td>\n",
              "      <td>0.0</td>\n",
              "      <td>0.0</td>\n",
              "    </tr>\n",
              "    <tr>\n",
              "      <th>3</th>\n",
              "      <td>1076863</td>\n",
              "      <td>1277178.0</td>\n",
              "      <td>10000.0</td>\n",
              "      <td>10000.0</td>\n",
              "      <td>10000.0</td>\n",
              "      <td>36 months</td>\n",
              "      <td>13.49%</td>\n",
              "      <td>339.31</td>\n",
              "      <td>C</td>\n",
              "      <td>C1</td>\n",
              "      <td>AIR RESOURCES BOARD</td>\n",
              "      <td>10+ years</td>\n",
              "      <td>RENT</td>\n",
              "      <td>49200.0</td>\n",
              "      <td>Source Verified</td>\n",
              "      <td>Dec-2011</td>\n",
              "      <td>Fully Paid</td>\n",
              "      <td>n</td>\n",
              "      <td>other</td>\n",
              "      <td>personel</td>\n",
              "      <td>917xx</td>\n",
              "      <td>CA</td>\n",
              "      <td>20.00</td>\n",
              "      <td>0.0</td>\n",
              "      <td>Feb-1996</td>\n",
              "      <td>1.0</td>\n",
              "      <td>10.0</td>\n",
              "      <td>0.0</td>\n",
              "      <td>5598.0</td>\n",
              "      <td>21%</td>\n",
              "      <td>37.0</td>\n",
              "      <td>f</td>\n",
              "      <td>0.00</td>\n",
              "      <td>0.00</td>\n",
              "      <td>12231.890000</td>\n",
              "      <td>12231.89</td>\n",
              "      <td>10000.00</td>\n",
              "      <td>2214.92</td>\n",
              "      <td>16.97</td>\n",
              "      <td>0.00</td>\n",
              "      <td>0.00</td>\n",
              "      <td>Jan-2015</td>\n",
              "      <td>357.48</td>\n",
              "      <td>Apr-2016</td>\n",
              "      <td>0.0</td>\n",
              "      <td>1.0</td>\n",
              "      <td>INDIVIDUAL</td>\n",
              "      <td>0.0</td>\n",
              "      <td>0.0</td>\n",
              "      <td>0.0</td>\n",
              "      <td>0.0</td>\n",
              "      <td>0.0</td>\n",
              "    </tr>\n",
              "    <tr>\n",
              "      <th>4</th>\n",
              "      <td>1075358</td>\n",
              "      <td>1311748.0</td>\n",
              "      <td>3000.0</td>\n",
              "      <td>3000.0</td>\n",
              "      <td>3000.0</td>\n",
              "      <td>60 months</td>\n",
              "      <td>12.69%</td>\n",
              "      <td>67.79</td>\n",
              "      <td>B</td>\n",
              "      <td>B5</td>\n",
              "      <td>University Medical Group</td>\n",
              "      <td>1 year</td>\n",
              "      <td>RENT</td>\n",
              "      <td>80000.0</td>\n",
              "      <td>Source Verified</td>\n",
              "      <td>Dec-2011</td>\n",
              "      <td>Current</td>\n",
              "      <td>n</td>\n",
              "      <td>other</td>\n",
              "      <td>Personal</td>\n",
              "      <td>972xx</td>\n",
              "      <td>OR</td>\n",
              "      <td>17.94</td>\n",
              "      <td>0.0</td>\n",
              "      <td>Jan-1996</td>\n",
              "      <td>0.0</td>\n",
              "      <td>15.0</td>\n",
              "      <td>0.0</td>\n",
              "      <td>27783.0</td>\n",
              "      <td>53.9%</td>\n",
              "      <td>38.0</td>\n",
              "      <td>f</td>\n",
              "      <td>461.73</td>\n",
              "      <td>461.73</td>\n",
              "      <td>3581.120000</td>\n",
              "      <td>3581.12</td>\n",
              "      <td>2538.27</td>\n",
              "      <td>1042.85</td>\n",
              "      <td>0.00</td>\n",
              "      <td>0.00</td>\n",
              "      <td>0.00</td>\n",
              "      <td>Jun-2016</td>\n",
              "      <td>67.79</td>\n",
              "      <td>Jun-2016</td>\n",
              "      <td>0.0</td>\n",
              "      <td>1.0</td>\n",
              "      <td>INDIVIDUAL</td>\n",
              "      <td>0.0</td>\n",
              "      <td>0.0</td>\n",
              "      <td>0.0</td>\n",
              "      <td>0.0</td>\n",
              "      <td>0.0</td>\n",
              "    </tr>\n",
              "  </tbody>\n",
              "</table>\n",
              "</div>"
            ],
            "text/plain": [
              "        id  member_id  loan_amnt  ...  delinq_amnt  pub_rec_bankruptcies tax_liens\n",
              "0  1077501  1296599.0     5000.0  ...          0.0                   0.0       0.0\n",
              "1  1077430  1314167.0     2500.0  ...          0.0                   0.0       0.0\n",
              "2  1077175  1313524.0     2400.0  ...          0.0                   0.0       0.0\n",
              "3  1076863  1277178.0    10000.0  ...          0.0                   0.0       0.0\n",
              "4  1075358  1311748.0     3000.0  ...          0.0                   0.0       0.0\n",
              "\n",
              "[5 rows x 52 columns]"
            ]
          },
          "metadata": {
            "tags": []
          },
          "execution_count": 2
        }
      ]
    },
    {
      "cell_type": "markdown",
      "metadata": {
        "id": "wOsI46IduI2x",
        "colab_type": "text"
      },
      "source": [
        "## Data Preperation"
      ]
    },
    {
      "cell_type": "code",
      "metadata": {
        "id": "SwbdFk5qT3st",
        "colab_type": "code",
        "colab": {
          "base_uri": "https://localhost:8080/",
          "height": 290
        },
        "outputId": "cf224d20-e2fc-46b4-8bd3-c1b6e350c512"
      },
      "source": [
        "print(loans_2007.columns)\n",
        "print('Number of columns : ', len(loans_2007.columns))"
      ],
      "execution_count": 3,
      "outputs": [
        {
          "output_type": "stream",
          "text": [
            "Index(['id', 'member_id', 'loan_amnt', 'funded_amnt', 'funded_amnt_inv',\n",
            "       'term', 'int_rate', 'installment', 'grade', 'sub_grade', 'emp_title',\n",
            "       'emp_length', 'home_ownership', 'annual_inc', 'verification_status',\n",
            "       'issue_d', 'loan_status', 'pymnt_plan', 'purpose', 'title', 'zip_code',\n",
            "       'addr_state', 'dti', 'delinq_2yrs', 'earliest_cr_line',\n",
            "       'inq_last_6mths', 'open_acc', 'pub_rec', 'revol_bal', 'revol_util',\n",
            "       'total_acc', 'initial_list_status', 'out_prncp', 'out_prncp_inv',\n",
            "       'total_pymnt', 'total_pymnt_inv', 'total_rec_prncp', 'total_rec_int',\n",
            "       'total_rec_late_fee', 'recoveries', 'collection_recovery_fee',\n",
            "       'last_pymnt_d', 'last_pymnt_amnt', 'last_credit_pull_d',\n",
            "       'collections_12_mths_ex_med', 'policy_code', 'application_type',\n",
            "       'acc_now_delinq', 'chargeoff_within_12_mths', 'delinq_amnt',\n",
            "       'pub_rec_bankruptcies', 'tax_liens'],\n",
            "      dtype='object')\n",
            "Number of columns :  52\n"
          ],
          "name": "stdout"
        }
      ]
    },
    {
      "cell_type": "markdown",
      "metadata": {
        "id": "Dmdttu-vl7QW",
        "colab_type": "text"
      },
      "source": [
        "Drop features that are not pertinent"
      ]
    },
    {
      "cell_type": "code",
      "metadata": {
        "id": "RsCT_WhOUQWM",
        "colab_type": "code",
        "colab": {}
      },
      "source": [
        "drop_columns = ['id','member_id','funded_amnt', 'funded_amnt_inv','grade','sub_grade','emp_title','issue_d', 'zip_code', 'out_prncp', 'out_prncp_inv',\n",
        "                'total_pymnt','total_pymnt_inv','total_rec_prncp','total_rec_int','total_rec_late_fee','recoveries','collection_recovery_fee', 'last_pymnt_d', 'last_pymnt_amnt']\n",
        "loans_2007.drop(columns=drop_columns, inplace=True)"
      ],
      "execution_count": 4,
      "outputs": []
    },
    {
      "cell_type": "markdown",
      "metadata": {
        "id": "RgQcMzZbsI8F",
        "colab_type": "text"
      },
      "source": [
        "We shall consider loan_status to be the target column that conveys if the loan had peen paid on-time"
      ]
    },
    {
      "cell_type": "code",
      "metadata": {
        "id": "2YqgM82WmS1E",
        "colab_type": "code",
        "colab": {
          "base_uri": "https://localhost:8080/",
          "height": 199
        },
        "outputId": "52405a22-c5dc-4018-fd9c-aadeaa538fa9"
      },
      "source": [
        "loans_2007['loan_status'].value_counts()"
      ],
      "execution_count": 5,
      "outputs": [
        {
          "output_type": "execute_result",
          "data": {
            "text/plain": [
              "Fully Paid                                             33136\n",
              "Charged Off                                             5634\n",
              "Does not meet the credit policy. Status:Fully Paid      1988\n",
              "Current                                                  961\n",
              "Does not meet the credit policy. Status:Charged Off      761\n",
              "Late (31-120 days)                                        24\n",
              "In Grace Period                                           20\n",
              "Late (16-30 days)                                          8\n",
              "Default                                                    3\n",
              "Name: loan_status, dtype: int64"
            ]
          },
          "metadata": {
            "tags": []
          },
          "execution_count": 5
        }
      ]
    },
    {
      "cell_type": "markdown",
      "metadata": {
        "id": "lUW5orkIuFD9",
        "colab_type": "text"
      },
      "source": [
        "We now format the target variable\n",
        "\n",
        "* Drop records which do not have the status \"Fully Paid\" or \"Charge Off\" \n",
        "* Code them to 1 and 0 so as to feed a binary classifier"
      ]
    },
    {
      "cell_type": "code",
      "metadata": {
        "id": "vVO96P_9uclC",
        "colab_type": "code",
        "colab": {
          "base_uri": "https://localhost:8080/",
          "height": 322
        },
        "outputId": "42837eae-34a7-41a5-8caf-b66a77ada7e4"
      },
      "source": [
        "loans_2007 = loans_2007[loans_2007['loan_status'].isin(['Fully Paid','Charged Off'])].copy()\n",
        "loans_2007.reset_index(drop=True)\n",
        "loans_2007.sample(5)"
      ],
      "execution_count": 6,
      "outputs": [
        {
          "output_type": "execute_result",
          "data": {
            "text/html": [
              "<div>\n",
              "<style scoped>\n",
              "    .dataframe tbody tr th:only-of-type {\n",
              "        vertical-align: middle;\n",
              "    }\n",
              "\n",
              "    .dataframe tbody tr th {\n",
              "        vertical-align: top;\n",
              "    }\n",
              "\n",
              "    .dataframe thead th {\n",
              "        text-align: right;\n",
              "    }\n",
              "</style>\n",
              "<table border=\"1\" class=\"dataframe\">\n",
              "  <thead>\n",
              "    <tr style=\"text-align: right;\">\n",
              "      <th></th>\n",
              "      <th>loan_amnt</th>\n",
              "      <th>term</th>\n",
              "      <th>int_rate</th>\n",
              "      <th>installment</th>\n",
              "      <th>emp_length</th>\n",
              "      <th>home_ownership</th>\n",
              "      <th>annual_inc</th>\n",
              "      <th>verification_status</th>\n",
              "      <th>loan_status</th>\n",
              "      <th>pymnt_plan</th>\n",
              "      <th>purpose</th>\n",
              "      <th>title</th>\n",
              "      <th>addr_state</th>\n",
              "      <th>dti</th>\n",
              "      <th>delinq_2yrs</th>\n",
              "      <th>earliest_cr_line</th>\n",
              "      <th>inq_last_6mths</th>\n",
              "      <th>open_acc</th>\n",
              "      <th>pub_rec</th>\n",
              "      <th>revol_bal</th>\n",
              "      <th>revol_util</th>\n",
              "      <th>total_acc</th>\n",
              "      <th>initial_list_status</th>\n",
              "      <th>last_credit_pull_d</th>\n",
              "      <th>collections_12_mths_ex_med</th>\n",
              "      <th>policy_code</th>\n",
              "      <th>application_type</th>\n",
              "      <th>acc_now_delinq</th>\n",
              "      <th>chargeoff_within_12_mths</th>\n",
              "      <th>delinq_amnt</th>\n",
              "      <th>pub_rec_bankruptcies</th>\n",
              "      <th>tax_liens</th>\n",
              "    </tr>\n",
              "  </thead>\n",
              "  <tbody>\n",
              "    <tr>\n",
              "      <th>2724</th>\n",
              "      <td>19425.0</td>\n",
              "      <td>60 months</td>\n",
              "      <td>20.89%</td>\n",
              "      <td>524.32</td>\n",
              "      <td>10+ years</td>\n",
              "      <td>MORTGAGE</td>\n",
              "      <td>46500.0</td>\n",
              "      <td>Verified</td>\n",
              "      <td>Charged Off</td>\n",
              "      <td>n</td>\n",
              "      <td>debt_consolidation</td>\n",
              "      <td>Debit Consolidation</td>\n",
              "      <td>TX</td>\n",
              "      <td>21.19</td>\n",
              "      <td>0.0</td>\n",
              "      <td>Apr-1982</td>\n",
              "      <td>0.0</td>\n",
              "      <td>14.0</td>\n",
              "      <td>0.0</td>\n",
              "      <td>16561.0</td>\n",
              "      <td>70.2%</td>\n",
              "      <td>29.0</td>\n",
              "      <td>f</td>\n",
              "      <td>Mar-2015</td>\n",
              "      <td>0.0</td>\n",
              "      <td>1.0</td>\n",
              "      <td>INDIVIDUAL</td>\n",
              "      <td>0.0</td>\n",
              "      <td>0.0</td>\n",
              "      <td>0.0</td>\n",
              "      <td>0.0</td>\n",
              "      <td>0.0</td>\n",
              "    </tr>\n",
              "    <tr>\n",
              "      <th>20888</th>\n",
              "      <td>4000.0</td>\n",
              "      <td>60 months</td>\n",
              "      <td>9.63%</td>\n",
              "      <td>84.27</td>\n",
              "      <td>3 years</td>\n",
              "      <td>MORTGAGE</td>\n",
              "      <td>36000.0</td>\n",
              "      <td>Not Verified</td>\n",
              "      <td>Fully Paid</td>\n",
              "      <td>n</td>\n",
              "      <td>wedding</td>\n",
              "      <td>personal loan</td>\n",
              "      <td>NC</td>\n",
              "      <td>2.43</td>\n",
              "      <td>0.0</td>\n",
              "      <td>Oct-2003</td>\n",
              "      <td>0.0</td>\n",
              "      <td>13.0</td>\n",
              "      <td>0.0</td>\n",
              "      <td>2407.0</td>\n",
              "      <td>34.4%</td>\n",
              "      <td>24.0</td>\n",
              "      <td>f</td>\n",
              "      <td>Jun-2016</td>\n",
              "      <td>0.0</td>\n",
              "      <td>1.0</td>\n",
              "      <td>INDIVIDUAL</td>\n",
              "      <td>0.0</td>\n",
              "      <td>0.0</td>\n",
              "      <td>0.0</td>\n",
              "      <td>0.0</td>\n",
              "      <td>0.0</td>\n",
              "    </tr>\n",
              "    <tr>\n",
              "      <th>10495</th>\n",
              "      <td>14000.0</td>\n",
              "      <td>36 months</td>\n",
              "      <td>7.49%</td>\n",
              "      <td>435.43</td>\n",
              "      <td>8 years</td>\n",
              "      <td>MORTGAGE</td>\n",
              "      <td>200000.0</td>\n",
              "      <td>Verified</td>\n",
              "      <td>Fully Paid</td>\n",
              "      <td>n</td>\n",
              "      <td>major_purchase</td>\n",
              "      <td>Trade-up in diamond ring</td>\n",
              "      <td>SC</td>\n",
              "      <td>1.21</td>\n",
              "      <td>0.0</td>\n",
              "      <td>Jan-1999</td>\n",
              "      <td>0.0</td>\n",
              "      <td>5.0</td>\n",
              "      <td>0.0</td>\n",
              "      <td>0.0</td>\n",
              "      <td>0%</td>\n",
              "      <td>19.0</td>\n",
              "      <td>f</td>\n",
              "      <td>Dec-2011</td>\n",
              "      <td>0.0</td>\n",
              "      <td>1.0</td>\n",
              "      <td>INDIVIDUAL</td>\n",
              "      <td>0.0</td>\n",
              "      <td>0.0</td>\n",
              "      <td>0.0</td>\n",
              "      <td>0.0</td>\n",
              "      <td>0.0</td>\n",
              "    </tr>\n",
              "    <tr>\n",
              "      <th>10249</th>\n",
              "      <td>28000.0</td>\n",
              "      <td>36 months</td>\n",
              "      <td>7.49%</td>\n",
              "      <td>870.85</td>\n",
              "      <td>&lt; 1 year</td>\n",
              "      <td>MORTGAGE</td>\n",
              "      <td>110000.0</td>\n",
              "      <td>Verified</td>\n",
              "      <td>Fully Paid</td>\n",
              "      <td>n</td>\n",
              "      <td>other</td>\n",
              "      <td>Parents</td>\n",
              "      <td>MD</td>\n",
              "      <td>0.44</td>\n",
              "      <td>0.0</td>\n",
              "      <td>Nov-1985</td>\n",
              "      <td>0.0</td>\n",
              "      <td>10.0</td>\n",
              "      <td>0.0</td>\n",
              "      <td>2029.0</td>\n",
              "      <td>4.3%</td>\n",
              "      <td>35.0</td>\n",
              "      <td>f</td>\n",
              "      <td>Aug-2012</td>\n",
              "      <td>0.0</td>\n",
              "      <td>1.0</td>\n",
              "      <td>INDIVIDUAL</td>\n",
              "      <td>0.0</td>\n",
              "      <td>0.0</td>\n",
              "      <td>0.0</td>\n",
              "      <td>0.0</td>\n",
              "      <td>0.0</td>\n",
              "    </tr>\n",
              "    <tr>\n",
              "      <th>19113</th>\n",
              "      <td>6000.0</td>\n",
              "      <td>36 months</td>\n",
              "      <td>5.42%</td>\n",
              "      <td>180.96</td>\n",
              "      <td>3 years</td>\n",
              "      <td>RENT</td>\n",
              "      <td>72000.0</td>\n",
              "      <td>Source Verified</td>\n",
              "      <td>Fully Paid</td>\n",
              "      <td>n</td>\n",
              "      <td>wedding</td>\n",
              "      <td>Wedding Reception Loan</td>\n",
              "      <td>NY</td>\n",
              "      <td>2.15</td>\n",
              "      <td>0.0</td>\n",
              "      <td>Oct-2000</td>\n",
              "      <td>0.0</td>\n",
              "      <td>5.0</td>\n",
              "      <td>0.0</td>\n",
              "      <td>779.0</td>\n",
              "      <td>14.8%</td>\n",
              "      <td>15.0</td>\n",
              "      <td>f</td>\n",
              "      <td>Mar-2014</td>\n",
              "      <td>0.0</td>\n",
              "      <td>1.0</td>\n",
              "      <td>INDIVIDUAL</td>\n",
              "      <td>0.0</td>\n",
              "      <td>0.0</td>\n",
              "      <td>0.0</td>\n",
              "      <td>0.0</td>\n",
              "      <td>0.0</td>\n",
              "    </tr>\n",
              "  </tbody>\n",
              "</table>\n",
              "</div>"
            ],
            "text/plain": [
              "       loan_amnt        term  ... pub_rec_bankruptcies  tax_liens\n",
              "2724     19425.0   60 months  ...                  0.0        0.0\n",
              "20888     4000.0   60 months  ...                  0.0        0.0\n",
              "10495    14000.0   36 months  ...                  0.0        0.0\n",
              "10249    28000.0   36 months  ...                  0.0        0.0\n",
              "19113     6000.0   36 months  ...                  0.0        0.0\n",
              "\n",
              "[5 rows x 32 columns]"
            ]
          },
          "metadata": {
            "tags": []
          },
          "execution_count": 6
        }
      ]
    },
    {
      "cell_type": "code",
      "metadata": {
        "id": "5QwewT0Mu41m",
        "colab_type": "code",
        "colab": {}
      },
      "source": [
        "loans_2007['loan_status'] = loans_2007['loan_status'].apply(lambda x : 1 if x == 'Fully Paid' else 0 )"
      ],
      "execution_count": 7,
      "outputs": []
    },
    {
      "cell_type": "markdown",
      "metadata": {
        "id": "SuQhCU0IwYRT",
        "colab_type": "text"
      },
      "source": [
        "Drop columns that have just one non-null unique value"
      ]
    },
    {
      "cell_type": "code",
      "metadata": {
        "id": "SHQPKD_CvQHv",
        "colab_type": "code",
        "colab": {
          "base_uri": "https://localhost:8080/",
          "height": 181
        },
        "outputId": "715d843b-c6b6-46f8-b3dd-e70df551d488"
      },
      "source": [
        "columns = loans_2007.columns\n",
        "drop_columns = []\n",
        "for col in columns:\n",
        "  unique_count = loans_2007[col].dropna().unique().shape[0]\n",
        "  if unique_count == 1:\n",
        "    drop_columns.append(col)\n",
        "drop_columns"
      ],
      "execution_count": 8,
      "outputs": [
        {
          "output_type": "execute_result",
          "data": {
            "text/plain": [
              "['pymnt_plan',\n",
              " 'initial_list_status',\n",
              " 'collections_12_mths_ex_med',\n",
              " 'policy_code',\n",
              " 'application_type',\n",
              " 'acc_now_delinq',\n",
              " 'chargeoff_within_12_mths',\n",
              " 'delinq_amnt',\n",
              " 'tax_liens']"
            ]
          },
          "metadata": {
            "tags": []
          },
          "execution_count": 8
        }
      ]
    },
    {
      "cell_type": "code",
      "metadata": {
        "id": "tUKFkz-8xIyV",
        "colab_type": "code",
        "colab": {}
      },
      "source": [
        "loans_2007.drop(columns=drop_columns, inplace=True)"
      ],
      "execution_count": 9,
      "outputs": []
    },
    {
      "cell_type": "code",
      "metadata": {
        "id": "h1oEedBKxOvf",
        "colab_type": "code",
        "colab": {}
      },
      "source": [
        "loans = loans_2007"
      ],
      "execution_count": 10,
      "outputs": []
    },
    {
      "cell_type": "markdown",
      "metadata": {
        "id": "cZjOV8Z10qkL",
        "colab_type": "text"
      },
      "source": [
        "Let us check for nulls in this restricted dataset "
      ]
    },
    {
      "cell_type": "code",
      "metadata": {
        "id": "YVv6dVfZ0tsd",
        "colab_type": "code",
        "colab": {
          "base_uri": "https://localhost:8080/",
          "height": 145
        },
        "outputId": "1f2adc78-1f6b-489a-d37a-0c383193772d"
      },
      "source": [
        "null_counts = loans.isnull().sum()\n",
        "print(null_counts[null_counts>0])\n",
        "print(loans['pub_rec_bankruptcies'].var())"
      ],
      "execution_count": 11,
      "outputs": [
        {
          "output_type": "stream",
          "text": [
            "emp_length              1036\n",
            "title                     11\n",
            "revol_util                50\n",
            "last_credit_pull_d         2\n",
            "pub_rec_bankruptcies     697\n",
            "dtype: int64\n",
            "0.04186729442744287\n"
          ],
          "name": "stdout"
        }
      ]
    },
    {
      "cell_type": "markdown",
      "metadata": {
        "id": "smdZSwA31tSe",
        "colab_type": "text"
      },
      "source": [
        "* employment length can be a strong signal, so we retain it\n",
        "* pub_rec_bankruticies has a very small variance and hence we wrill drop that as well\n",
        "* For the columns besides  pub_rec_bankruticies, we are dropping the rows"
      ]
    },
    {
      "cell_type": "code",
      "metadata": {
        "id": "m-8On52v2S0t",
        "colab_type": "code",
        "colab": {}
      },
      "source": [
        "loans.drop(columns=['pub_rec_bankruptcies'],inplace=True)\n",
        "loans.dropna(inplace=True)"
      ],
      "execution_count": 12,
      "outputs": []
    },
    {
      "cell_type": "markdown",
      "metadata": {
        "id": "23oAsBAu3Bye",
        "colab_type": "text"
      },
      "source": [
        "Now let's focus on the data types and see if they can be consumed by the modelling libraries"
      ]
    },
    {
      "cell_type": "code",
      "metadata": {
        "id": "hLKww9-_2ilu",
        "colab_type": "code",
        "colab": {
          "base_uri": "https://localhost:8080/",
          "height": 90
        },
        "outputId": "d3ea4259-8526-4973-9f7f-ac91d8e68c9a"
      },
      "source": [
        "loans.dtypes.value_counts()"
      ],
      "execution_count": 13,
      "outputs": [
        {
          "output_type": "execute_result",
          "data": {
            "text/plain": [
              "object     11\n",
              "float64    10\n",
              "int64       1\n",
              "dtype: int64"
            ]
          },
          "metadata": {
            "tags": []
          },
          "execution_count": 13
        }
      ]
    },
    {
      "cell_type": "code",
      "metadata": {
        "id": "BPYaQTlH3YEe",
        "colab_type": "code",
        "colab": {
          "base_uri": "https://localhost:8080/",
          "height": 78
        },
        "outputId": "11c37c57-f78a-4944-db96-7c8256f8a9ca"
      },
      "source": [
        "object_columns_df = loans.select_dtypes('object')\n",
        "object_columns_df.head(1)"
      ],
      "execution_count": 14,
      "outputs": [
        {
          "output_type": "execute_result",
          "data": {
            "text/html": [
              "<div>\n",
              "<style scoped>\n",
              "    .dataframe tbody tr th:only-of-type {\n",
              "        vertical-align: middle;\n",
              "    }\n",
              "\n",
              "    .dataframe tbody tr th {\n",
              "        vertical-align: top;\n",
              "    }\n",
              "\n",
              "    .dataframe thead th {\n",
              "        text-align: right;\n",
              "    }\n",
              "</style>\n",
              "<table border=\"1\" class=\"dataframe\">\n",
              "  <thead>\n",
              "    <tr style=\"text-align: right;\">\n",
              "      <th></th>\n",
              "      <th>term</th>\n",
              "      <th>int_rate</th>\n",
              "      <th>emp_length</th>\n",
              "      <th>home_ownership</th>\n",
              "      <th>verification_status</th>\n",
              "      <th>purpose</th>\n",
              "      <th>title</th>\n",
              "      <th>addr_state</th>\n",
              "      <th>earliest_cr_line</th>\n",
              "      <th>revol_util</th>\n",
              "      <th>last_credit_pull_d</th>\n",
              "    </tr>\n",
              "  </thead>\n",
              "  <tbody>\n",
              "    <tr>\n",
              "      <th>0</th>\n",
              "      <td>36 months</td>\n",
              "      <td>10.65%</td>\n",
              "      <td>10+ years</td>\n",
              "      <td>RENT</td>\n",
              "      <td>Verified</td>\n",
              "      <td>credit_card</td>\n",
              "      <td>Computer</td>\n",
              "      <td>AZ</td>\n",
              "      <td>Jan-1985</td>\n",
              "      <td>83.7%</td>\n",
              "      <td>Jun-2016</td>\n",
              "    </tr>\n",
              "  </tbody>\n",
              "</table>\n",
              "</div>"
            ],
            "text/plain": [
              "         term int_rate  ... revol_util last_credit_pull_d\n",
              "0   36 months   10.65%  ...      83.7%           Jun-2016\n",
              "\n",
              "[1 rows x 11 columns]"
            ]
          },
          "metadata": {
            "tags": []
          },
          "execution_count": 14
        }
      ]
    },
    {
      "cell_type": "code",
      "metadata": {
        "id": "60mVhCUy3jJW",
        "colab_type": "code",
        "colab": {}
      },
      "source": [
        "# Drop earliest_cr_line and last_credit_pull_d due to complexity in feature engineering\n",
        "loans.drop(columns=['earliest_cr_line','last_credit_pull_d'], inplace=True)"
      ],
      "execution_count": 15,
      "outputs": []
    },
    {
      "cell_type": "markdown",
      "metadata": {
        "id": "-dCdopAWQ9gU",
        "colab_type": "text"
      },
      "source": [
        "Explore the remaining textual columns"
      ]
    },
    {
      "cell_type": "code",
      "metadata": {
        "id": "S_L9zXNmPF0d",
        "colab_type": "code",
        "colab": {
          "base_uri": "https://localhost:8080/",
          "height": 745
        },
        "outputId": "3fd47faa-ae5a-459a-d977-f99903bd7f6e"
      },
      "source": [
        "cols = ['home_ownership', 'verification_status', 'emp_length', 'term', 'addr_state']\n",
        "for col in cols:\n",
        "  print(loans[col].value_counts().head(10))\n",
        "  print(\"************************************************************\")"
      ],
      "execution_count": 16,
      "outputs": [
        {
          "output_type": "stream",
          "text": [
            "RENT        18112\n",
            "MORTGAGE    16686\n",
            "OWN          2778\n",
            "OTHER          96\n",
            "NONE            3\n",
            "Name: home_ownership, dtype: int64\n",
            "************************************************************\n",
            "Not Verified       16281\n",
            "Verified           11856\n",
            "Source Verified     9538\n",
            "Name: verification_status, dtype: int64\n",
            "************************************************************\n",
            "10+ years    8545\n",
            "< 1 year     4513\n",
            "2 years      4303\n",
            "3 years      4022\n",
            "4 years      3353\n",
            "5 years      3202\n",
            "1 year       3176\n",
            "6 years      2177\n",
            "7 years      1714\n",
            "8 years      1442\n",
            "Name: emp_length, dtype: int64\n",
            "************************************************************\n",
            " 36 months    28234\n",
            " 60 months     9441\n",
            "Name: term, dtype: int64\n",
            "************************************************************\n",
            "CA    6776\n",
            "NY    3614\n",
            "FL    2704\n",
            "TX    2613\n",
            "NJ    1776\n",
            "IL    1447\n",
            "PA    1442\n",
            "VA    1347\n",
            "GA    1323\n",
            "MA    1272\n",
            "Name: addr_state, dtype: int64\n",
            "************************************************************\n"
          ],
          "name": "stdout"
        }
      ]
    },
    {
      "cell_type": "code",
      "metadata": {
        "id": "EOknR6eqRWia",
        "colab_type": "code",
        "colab": {
          "base_uri": "https://localhost:8080/",
          "height": 454
        },
        "outputId": "fa6eb58b-262e-4fc5-d6df-94ea04d4bc19"
      },
      "source": [
        "cols = ['purpose', 'title']\n",
        "for col in cols:\n",
        "  print(loans[col].value_counts().head(10))\n",
        "  print(\"************************************************************\")"
      ],
      "execution_count": 17,
      "outputs": [
        {
          "output_type": "stream",
          "text": [
            "debt_consolidation    17751\n",
            "credit_card            4911\n",
            "other                  3711\n",
            "home_improvement       2808\n",
            "major_purchase         2083\n",
            "small_business         1719\n",
            "car                    1459\n",
            "wedding                 916\n",
            "medical                 655\n",
            "moving                  552\n",
            "Name: purpose, dtype: int64\n",
            "************************************************************\n",
            "Debt Consolidation           2068\n",
            "Debt Consolidation Loan      1599\n",
            "Personal Loan                 624\n",
            "Consolidation                 488\n",
            "debt consolidation            466\n",
            "Credit Card Consolidation     345\n",
            "Home Improvement              336\n",
            "Debt consolidation            314\n",
            "Small Business Loan           298\n",
            "Credit Card Loan              294\n",
            "Name: title, dtype: int64\n",
            "************************************************************\n"
          ],
          "name": "stdout"
        }
      ]
    },
    {
      "cell_type": "markdown",
      "metadata": {
        "id": "3WPrOPM0TB7r",
        "colab_type": "text"
      },
      "source": [
        "Remove additional fields that does not reveal information or is cumbersome to use"
      ]
    },
    {
      "cell_type": "code",
      "metadata": {
        "id": "T0MkdBIhTLdh",
        "colab_type": "code",
        "colab": {}
      },
      "source": [
        "cols = [ 'addr_state', 'title']\n",
        "loans.drop(columns=cols,inplace=True)"
      ],
      "execution_count": 18,
      "outputs": []
    },
    {
      "cell_type": "code",
      "metadata": {
        "id": "DGTezStZThv5",
        "colab_type": "code",
        "colab": {}
      },
      "source": [
        "loans['int_rate'] = loans['int_rate'].str.rstrip('%').astype(float)\n",
        "loans['revol_util'] = loans['revol_util'].str.rstrip('%').astype(float)\n",
        "mapping_dict = {\n",
        "        \"10+ years\": 10,\n",
        "        \"9 years\": 9,\n",
        "        \"8 years\": 8,\n",
        "        \"7 years\": 7,\n",
        "        \"6 years\": 6,\n",
        "        \"5 years\": 5,\n",
        "        \"4 years\": 4,\n",
        "        \"3 years\": 3,\n",
        "        \"2 years\": 2,\n",
        "        \"1 year\": 1,\n",
        "        \"< 1 year\": 0,\n",
        "        \"n/a\": 0\n",
        "    }\n",
        "\n",
        "\n",
        "loans['emp_length'] = loans['emp_length'].map(mapping_dict)\n",
        "\n"
      ],
      "execution_count": 19,
      "outputs": []
    },
    {
      "cell_type": "markdown",
      "metadata": {
        "id": "vOALaJTn0lTT",
        "colab_type": "text"
      },
      "source": [
        "Encode categorical variables with dummy variables"
      ]
    },
    {
      "cell_type": "code",
      "metadata": {
        "id": "7ZZcGM1MTY-Z",
        "colab_type": "code",
        "colab": {}
      },
      "source": [
        "# Create dummies\n",
        "categorial_cols = [\"home_ownership\",\"term\", \"verification_status\",\"purpose\"]\n",
        "dummy_df = pd.get_dummies(loans[categorial_cols])\n",
        "loans = pd.concat([loans,dummy_df],axis = 1)\n",
        "\n",
        "# Drop the columns for which dummy variables where introduces\n",
        "loans.drop(columns=categorial_cols, inplace=True)\n"
      ],
      "execution_count": 20,
      "outputs": []
    },
    {
      "cell_type": "markdown",
      "metadata": {
        "id": "YwAtU7y3KIkx",
        "colab_type": "text"
      },
      "source": [
        "## Modelling"
      ]
    },
    {
      "cell_type": "code",
      "metadata": {
        "id": "Nn9S0dwc1XRu",
        "colab_type": "code",
        "colab": {}
      },
      "source": [
        "# Exclude loan_status for the features\n",
        "features = loans[loans.columns[~loans.columns.isin(['loan_status'])]]\n",
        "target = loans['loan_status']"
      ],
      "execution_count": 31,
      "outputs": []
    },
    {
      "cell_type": "markdown",
      "metadata": {
        "id": "8zZb_ReLK27w",
        "colab_type": "text"
      },
      "source": [
        "### Logistic Regression"
      ]
    },
    {
      "cell_type": "code",
      "metadata": {
        "id": "EhfeyNn5K1qS",
        "colab_type": "code",
        "colab": {}
      },
      "source": [
        "penalty = {\n",
        "    0: 10,\n",
        "    1: 1\n",
        "}\n",
        "\n",
        "lr = LogisticRegression(class_weight=penalty)\n",
        "lr.fit(features,target )\n",
        "# Predict with cross validation\n",
        "predictions = cross_val_predict(lr,features,target,cv=3)\n",
        "# Convert to pd.Series\n",
        "predictions = pd.Series(predictions)"
      ],
      "execution_count": 59,
      "outputs": []
    },
    {
      "cell_type": "code",
      "metadata": {
        "id": "yjNleySAMrKK",
        "colab_type": "code",
        "colab": {
          "base_uri": "https://localhost:8080/",
          "height": 54
        },
        "outputId": "71ced360-932f-4bde-8311-55dddbe75e99"
      },
      "source": [
        "# TPR = TP / (TP + FN)\n",
        "tp = ((predictions == 1) & (target == 1 )).sum()\n",
        "fn = ((predictions == 0) & (target == 1 )).sum()\n",
        "tpr = tp / (tp + fn)\n",
        "print(\"TPR : \", tpr)\n",
        "\n",
        "# FPR = FP / (FP + TN)\n",
        "fp = ((predictions == 1) & (target == 0 )).sum()\n",
        "tn = ((predictions == 0) & (target == 0 )).sum()\n",
        "fpr = fp / (fp + tn)\n",
        "print(\"FPR : \", fpr)"
      ],
      "execution_count": 60,
      "outputs": [
        {
          "output_type": "stream",
          "text": [
            "TPR :  0.170523072889355\n",
            "FPR :  0.16722606120434352\n"
          ],
          "name": "stdout"
        }
      ]
    },
    {
      "cell_type": "markdown",
      "metadata": {
        "id": "LrnoGL51RS7T",
        "colab_type": "text"
      },
      "source": [
        "### Random Forest"
      ]
    },
    {
      "cell_type": "code",
      "metadata": {
        "id": "goM3ehTnRU0j",
        "colab_type": "code",
        "colab": {
          "base_uri": "https://localhost:8080/",
          "height": 54
        },
        "outputId": "df4703b4-957c-42a7-bfac-988f3ed2c898"
      },
      "source": [
        "penalty = {\n",
        "    0: 10,\n",
        "    1: 1\n",
        "}\n",
        "\n",
        "lr = RandomForestClassifier(random_state=1,class_weight=penalty)\n",
        "lr.fit(features,target )\n",
        "# Predict with cross validation\n",
        "predictions = cross_val_predict(lr,features,target,cv=3)\n",
        "# Convert to pd.Series\n",
        "predictions = pd.Series(predictions)\n",
        "\n",
        "# TPR = TP / (TP + FN)\n",
        "tp = ((predictions == 1) & (target == 1 )).sum()\n",
        "fn = ((predictions == 0) & (target == 1 )).sum()\n",
        "tpr = tp / (tp + fn)\n",
        "print(\"TPR : \", tpr)\n",
        "\n",
        "# FPR = FP / (FP + TN)\n",
        "fp = ((predictions == 1) & (target == 0 )).sum()\n",
        "tn = ((predictions == 0) & (target == 0 )).sum()\n",
        "fpr = fp / (fp + tn)\n",
        "print(\"FPR : \", fpr)"
      ],
      "execution_count": 63,
      "outputs": [
        {
          "output_type": "stream",
          "text": [
            "TPR :  0.9971814368117462\n",
            "FPR :  0.9970384995064165\n"
          ],
          "name": "stdout"
        }
      ]
    }
  ]
}