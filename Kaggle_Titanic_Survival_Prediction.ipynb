{
  "nbformat": 4,
  "nbformat_minor": 0,
  "metadata": {
    "colab": {
      "name": "Kaggle - Titanic Survival Prediction.ipynb",
      "provenance": [],
      "collapsed_sections": [],
      "toc_visible": true,
      "mount_file_id": "1JPwew24LMA1GhCzKVDi2GzRS1Ao8Fn-j",
      "authorship_tag": "ABX9TyPidk9JqSIJ8Xsk5o5ytm3t",
      "include_colab_link": true
    },
    "kernelspec": {
      "name": "python3",
      "display_name": "Python 3"
    }
  },
  "cells": [
    {
      "cell_type": "markdown",
      "metadata": {
        "id": "view-in-github",
        "colab_type": "text"
      },
      "source": [
        "<a href=\"https://colab.research.google.com/github/prabhudc/DQ/blob/master/Kaggle_Titanic_Survival_Prediction.ipynb\" target=\"_parent\"><img src=\"https://colab.research.google.com/assets/colab-badge.svg\" alt=\"Open In Colab\"/></a>"
      ]
    },
    {
      "cell_type": "markdown",
      "metadata": {
        "id": "PlYZ11M1dlK-",
        "colab_type": "text"
      },
      "source": [
        "# Kaggle - Titanic Dataset Analysis"
      ]
    },
    {
      "cell_type": "code",
      "metadata": {
        "id": "_CrCBe2qVDSY",
        "colab_type": "code",
        "colab": {}
      },
      "source": [
        "# Usual suspects\n",
        "import pandas as pd\n",
        "import numpy as np\n",
        "\n",
        "# Pre-processing\n",
        "from sklearn.preprocessing import minmax_scale\n",
        "from sklearn.feature_selection import RFECV\n",
        "\n",
        "# Model Selection\n",
        "from sklearn.model_selection import GridSearchCV\n",
        "\n",
        "# Models\n",
        "from sklearn.linear_model import LogisticRegression\n",
        "from sklearn.model_selection import train_test_split, cross_val_score,cross_val_predict\n",
        "from sklearn.neighbors import KNeighborsClassifier\n",
        "from sklearn.ensemble import RandomForestClassifier\n",
        "\n",
        "# Plotting\n",
        "import matplotlib.pyplot as plt\n",
        "import seaborn as sns\n",
        "\n",
        "# Metrics\n",
        "from sklearn.metrics import accuracy_score\n"
      ],
      "execution_count": 207,
      "outputs": []
    },
    {
      "cell_type": "code",
      "metadata": {
        "id": "lYjbNl-QVXPq",
        "colab_type": "code",
        "colab": {}
      },
      "source": [
        "# Read in the datasets from Kaggle\n",
        "train = pd.read_csv('/content/drive/My Drive/DataScience/files/train.csv')\n",
        "test = pd.read_csv('/content/drive/My Drive/DataScience/files/test.csv')"
      ],
      "execution_count": 163,
      "outputs": []
    },
    {
      "cell_type": "markdown",
      "metadata": {
        "id": "tlvGOosaV9nW",
        "colab_type": "text"
      },
      "source": [
        "## Explore the dataset and feature engineering"
      ]
    },
    {
      "cell_type": "code",
      "metadata": {
        "id": "KHwmvdIbV4qs",
        "colab_type": "code",
        "colab": {
          "base_uri": "https://localhost:8080/",
          "height": 54
        },
        "outputId": "cc40d576-1835-4baa-c363-2ffc44836cd1"
      },
      "source": [
        "train_shape = train.shape\n",
        "print(\"Training dataset size\",train_shape)\n",
        "test_shape = test.shape\n",
        "print(\"Training dataset size\",test_shape)"
      ],
      "execution_count": 164,
      "outputs": [
        {
          "output_type": "stream",
          "text": [
            "Training dataset size (891, 12)\n",
            "Training dataset size (418, 11)\n"
          ],
          "name": "stdout"
        }
      ]
    },
    {
      "cell_type": "markdown",
      "metadata": {
        "id": "BT9K4ICjdeqY",
        "colab_type": "text"
      },
      "source": [
        "Distribution of the survival across gender"
      ]
    },
    {
      "cell_type": "code",
      "metadata": {
        "id": "I9lgOfXadi-i",
        "colab_type": "code",
        "colab": {
          "base_uri": "https://localhost:8080/",
          "height": 313
        },
        "outputId": "eb8cb93e-7547-45ef-83eb-c5d861322a17"
      },
      "source": [
        "sex_pivot = train.pivot_table(index='Sex',values='Survived')\n",
        "sex_pivot.plot.bar()\n",
        "plt.show()"
      ],
      "execution_count": 165,
      "outputs": [
        {
          "output_type": "display_data",
          "data": {
            "image/png": "[encoded data removed]",
            "text/plain": [
              "<Figure size 432x288 with 1 Axes>"
            ]
          },
          "metadata": {
            "tags": []
          }
        }
      ]
    },
    {
      "cell_type": "markdown",
      "metadata": {
        "id": "1vS7S7Uxgtd_",
        "colab_type": "text"
      },
      "source": [
        "Distribution of the survival across passenger class"
      ]
    },
    {
      "cell_type": "code",
      "metadata": {
        "id": "7lFoMWp2esoT",
        "colab_type": "code",
        "colab": {
          "base_uri": "https://localhost:8080/",
          "height": 282
        },
        "outputId": "e5a12da3-f39c-4009-aef5-00a5483b3e88"
      },
      "source": [
        "gender_pivot = train.pivot_table(index='Pclass',values='Survived')\n",
        "gender_pivot.plot.bar()\n",
        "plt.show()"
      ],
      "execution_count": 166,
      "outputs": [
        {
          "output_type": "display_data",
          "data": {
            "image/png": "[encoded data removed]",
            "text/plain": [
              "<Figure size 432x288 with 1 Axes>"
            ]
          },
          "metadata": {
            "tags": []
          }
        }
      ]
    },
    {
      "cell_type": "markdown",
      "metadata": {
        "id": "06lw3_6ziVuP",
        "colab_type": "text"
      },
      "source": [
        "Passenger class and gender are categorical variable, now let's peak into age which is numerical and continuous"
      ]
    },
    {
      "cell_type": "code",
      "metadata": {
        "id": "2p93bILlgxHB",
        "colab_type": "code",
        "colab": {
          "base_uri": "https://localhost:8080/",
          "height": 181
        },
        "outputId": "c32449f0-1e15-4676-ccf9-26d906461b38"
      },
      "source": [
        "train['Age'].describe()"
      ],
      "execution_count": 167,
      "outputs": [
        {
          "output_type": "execute_result",
          "data": {
            "text/plain": [
              "count    714.000000\n",
              "mean      29.699118\n",
              "std       14.526497\n",
              "min        0.420000\n",
              "25%       20.125000\n",
              "50%       28.000000\n",
              "75%       38.000000\n",
              "max       80.000000\n",
              "Name: Age, dtype: float64"
            ]
          },
          "metadata": {
            "tags": []
          },
          "execution_count": 167
        }
      ]
    },
    {
      "cell_type": "markdown",
      "metadata": {
        "id": "J-vcA-BYi0oU",
        "colab_type": "text"
      },
      "source": [
        "We could create two histograms overlayed on the other to compare the age distribution across survival "
      ]
    },
    {
      "cell_type": "code",
      "metadata": {
        "id": "4h79Kr-Bil3s",
        "colab_type": "code",
        "colab": {
          "base_uri": "https://localhost:8080/",
          "height": 268
        },
        "outputId": "76d2b32a-778c-4ffd-f70e-9ca8cf574a07"
      },
      "source": [
        "survived = train[train['Survived'] == 1]\n",
        "not_survived = train[train['Survived'] == 0]\n",
        "survived['Age'].plot.hist(color='blue', alpha=0.5,bins=50)\n",
        "not_survived['Age'].plot.hist(color='red', alpha=0.5,bins=50)\n",
        "plt.legend(['Survived','Died'])\n",
        "plt.show()"
      ],
      "execution_count": 168,
      "outputs": [
        {
          "output_type": "display_data",
          "data": {
            "image/png": "[encoded data removed]",
            "text/plain": [
              "<Figure size 432x288 with 1 Axes>"
            ]
          },
          "metadata": {
            "tags": []
          }
        }
      ]
    },
    {
      "cell_type": "markdown",
      "metadata": {
        "id": "Mf0Fxs__ktp8",
        "colab_type": "text"
      },
      "source": [
        "Lets check for null values before applying any conversions"
      ]
    },
    {
      "cell_type": "code",
      "metadata": {
        "id": "vRaf95IPj44q",
        "colab_type": "code",
        "colab": {
          "base_uri": "https://localhost:8080/",
          "height": 35
        },
        "outputId": "f3d1eaf3-b088-47fd-c69d-06cbe3db300e"
      },
      "source": [
        "train['Age'].isna().sum()"
      ],
      "execution_count": 169,
      "outputs": [
        {
          "output_type": "execute_result",
          "data": {
            "text/plain": [
              "177"
            ]
          },
          "metadata": {
            "tags": []
          },
          "execution_count": 169
        }
      ]
    },
    {
      "cell_type": "markdown",
      "metadata": {
        "id": "HHzfrQdmk5RF",
        "colab_type": "text"
      },
      "source": [
        "Let us transform Age to a categorical feature"
      ]
    },
    {
      "cell_type": "code",
      "metadata": {
        "id": "l_zPoXZ2k3Lo",
        "colab_type": "code",
        "colab": {}
      },
      "source": [
        "# Function to transfor age to a categorical feature\n",
        "def process_age(df, cut_points, label_names):\n",
        "  # Set nulls to a default low value\n",
        "  df['Age'] = df['Age'].fillna(-0.5)\n",
        "  return pd.cut(df['Age'],bins=cut_points,labels=label_names)\n",
        "\n",
        "cut_points = [-1,0,5,12,18,35,60,100]\n",
        "label_names = ['Missing','Infant','Child','Teenager','Young Adult','Adult','Senior']\n",
        "\n",
        "train['Age_categories'] = process_age(train, cut_points,label_names)\n",
        "test['Age_categories'] = process_age(test, cut_points,label_names)"
      ],
      "execution_count": 170,
      "outputs": []
    },
    {
      "cell_type": "code",
      "metadata": {
        "id": "dlQhBm13nIhq",
        "colab_type": "code",
        "colab": {
          "base_uri": "https://localhost:8080/",
          "height": 340
        },
        "outputId": "0f5b5a61-1a1a-4b93-ed6b-6b2e97e13adc"
      },
      "source": [
        "age_pivot = train.pivot_table(index='Age_categories',values='Survived')\n",
        "age_pivot.plot.bar()\n",
        "plt.show()"
      ],
      "execution_count": 171,
      "outputs": [
        {
          "output_type": "display_data",
          "data": {
            "image/png": "[encoded data removed]",
            "text/plain": [
              "<Figure size 432x288 with 1 Axes>"
            ]
          },
          "metadata": {
            "tags": []
          }
        }
      ]
    },
    {
      "cell_type": "markdown",
      "metadata": {
        "id": "2IGQ_XDlsxVR",
        "colab_type": "text"
      },
      "source": [
        "The categorical features need to be converted to dummy variables."
      ]
    },
    {
      "cell_type": "code",
      "metadata": {
        "id": "QXrDcPj-twRN",
        "colab_type": "code",
        "colab": {}
      },
      "source": [
        "def create_dummies(df, column_name):\n",
        "  return pd.concat([df,pd.get_dummies(df[column_name],prefix=column_name)],axis=1)\n",
        "\n",
        "# Dummy value conversion for passenger class\n",
        "train = create_dummies(train,\"Pclass\")\n",
        "test = create_dummies(test,\"Pclass\")\n",
        "\n",
        "# Dummy value conversion for passenger Sex\n",
        "train = create_dummies(train,\"Sex\")\n",
        "test = create_dummies(test,\"Sex\")\n",
        "\n",
        "# Dummy value conversion for passenger Age\n",
        "train = create_dummies(train,\"Age_categories\")\n",
        "test = create_dummies(test,\"Age_categories\")"
      ],
      "execution_count": 172,
      "outputs": []
    },
    {
      "cell_type": "markdown",
      "metadata": {
        "id": "PdsH3XeousTS",
        "colab_type": "text"
      },
      "source": [
        "## Modelling\n",
        "\n",
        "### Logistict Regression Classifier"
      ]
    },
    {
      "cell_type": "code",
      "metadata": {
        "id": "phXvqc2HuezZ",
        "colab_type": "code",
        "colab": {
          "base_uri": "https://localhost:8080/",
          "height": 108
        },
        "outputId": "fbb91546-fb45-47b5-9b24-43ceb5eaeca2"
      },
      "source": [
        "lr = LogisticRegression()\n",
        "columns = columns = ['Pclass_1', 'Pclass_2', 'Pclass_3', 'Sex_female', 'Sex_male',\n",
        "       'Age_categories_Missing','Age_categories_Infant',\n",
        "       'Age_categories_Child', 'Age_categories_Teenager',\n",
        "       'Age_categories_Young Adult', 'Age_categories_Adult',\n",
        "       'Age_categories_Senior']\n",
        "X = train[columns]\n",
        "y = train['Survived']\n",
        "\n",
        "lr.fit(X,y)\n"
      ],
      "execution_count": 173,
      "outputs": [
        {
          "output_type": "execute_result",
          "data": {
            "text/plain": [
              "LogisticRegression(C=1.0, class_weight=None, dual=False, fit_intercept=True,\n",
              "                   intercept_scaling=1, l1_ratio=None, max_iter=100,\n",
              "                   multi_class='auto', n_jobs=None, penalty='l2',\n",
              "                   random_state=None, solver='lbfgs', tol=0.0001, verbose=0,\n",
              "                   warm_start=False)"
            ]
          },
          "metadata": {
            "tags": []
          },
          "execution_count": 173
        }
      ]
    },
    {
      "cell_type": "markdown",
      "metadata": {
        "id": "PtgzsXiPhF0k",
        "colab_type": "text"
      },
      "source": [
        "### Implement train/test split"
      ]
    },
    {
      "cell_type": "code",
      "metadata": {
        "id": "HFJ19l_Nffqy",
        "colab_type": "code",
        "colab": {}
      },
      "source": [
        "train_X, test_X, train_y, test_y = train_test_split(X,y,test_size=0.2,random_state=0)"
      ],
      "execution_count": 174,
      "outputs": []
    },
    {
      "cell_type": "markdown",
      "metadata": {
        "id": "s7Maz8tQigpi",
        "colab_type": "text"
      },
      "source": [
        "Run Logistic Regression on the train/test splits"
      ]
    },
    {
      "cell_type": "code",
      "metadata": {
        "id": "269MgX6FilF_",
        "colab_type": "code",
        "colab": {
          "base_uri": "https://localhost:8080/",
          "height": 35
        },
        "outputId": "a9812904-144d-4976-9aa4-50f0bf4a262a"
      },
      "source": [
        "lr.fit(train_X,train_y)\n",
        "predictions = lr.predict(test_X)\n",
        "accuracy = accuracy_score(test_y,predictions)\n",
        "accuracy"
      ],
      "execution_count": 175,
      "outputs": [
        {
          "output_type": "execute_result",
          "data": {
            "text/plain": [
              "0.8100558659217877"
            ]
          },
          "metadata": {
            "tags": []
          },
          "execution_count": 175
        }
      ]
    },
    {
      "cell_type": "markdown",
      "metadata": {
        "id": "MFqKQp9oj6tT",
        "colab_type": "text"
      },
      "source": [
        "### Implement Cross validation"
      ]
    },
    {
      "cell_type": "code",
      "metadata": {
        "id": "YWYYkZQ2j8on",
        "colab_type": "code",
        "colab": {
          "base_uri": "https://localhost:8080/",
          "height": 35
        },
        "outputId": "fe3dc2c3-4c7f-42a1-9ffb-7ae05560d0dc"
      },
      "source": [
        "accuracy = np.mean(cross_val_score(lr,X,y,cv=10))\n",
        "accuracy"
      ],
      "execution_count": 176,
      "outputs": [
        {
          "output_type": "execute_result",
          "data": {
            "text/plain": [
              "0.8024719101123596"
            ]
          },
          "metadata": {
            "tags": []
          },
          "execution_count": 176
        }
      ]
    },
    {
      "cell_type": "markdown",
      "metadata": {
        "id": "ovAwQFbDlKJ3",
        "colab_type": "text"
      },
      "source": [
        "### Create prediction set"
      ]
    },
    {
      "cell_type": "code",
      "metadata": {
        "id": "PrfClIBqkzUK",
        "colab_type": "code",
        "colab": {}
      },
      "source": [
        "lr = LogisticRegression()\n",
        "columns = columns = ['Pclass_1', 'Pclass_2', 'Pclass_3', 'Sex_female', 'Sex_male',\n",
        "       'Age_categories_Missing','Age_categories_Infant',\n",
        "       'Age_categories_Child', 'Age_categories_Teenager',\n",
        "       'Age_categories_Young Adult', 'Age_categories_Adult',\n",
        "       'Age_categories_Senior']\n",
        "X = train[columns]\n",
        "y = train['Survived']\n",
        "lr.fit(X,y)\n",
        "holdout_predictions = lr.predict(test[columns])\n"
      ],
      "execution_count": 177,
      "outputs": []
    },
    {
      "cell_type": "markdown",
      "metadata": {
        "id": "K7_LPKfbmJqC",
        "colab_type": "text"
      },
      "source": [
        "Create file for download"
      ]
    },
    {
      "cell_type": "code",
      "metadata": {
        "id": "dgdTC_48mLbn",
        "colab_type": "code",
        "colab": {
          "base_uri": "https://localhost:8080/",
          "height": 198
        },
        "outputId": "68a02f90-1ae5-4ca7-b3cc-9aa2366816b9"
      },
      "source": [
        "submission_df = pd.concat([test['PassengerId'],pd.Series(holdout_predictions)] , axis=1,names=['PassengerId','Survived'])\n",
        "submission_df.columns = ['PassengerId','Survived']\n",
        "submission_df.head()"
      ],
      "execution_count": 178,
      "outputs": [
        {
          "output_type": "execute_result",
          "data": {
            "text/html": [
              "<div>\n",
              "<style scoped>\n",
              "    .dataframe tbody tr th:only-of-type {\n",
              "        vertical-align: middle;\n",
              "    }\n",
              "\n",
              "    .dataframe tbody tr th {\n",
              "        vertical-align: top;\n",
              "    }\n",
              "\n",
              "    .dataframe thead th {\n",
              "        text-align: right;\n",
              "    }\n",
              "</style>\n",
              "<table border=\"1\" class=\"dataframe\">\n",
              "  <thead>\n",
              "    <tr style=\"text-align: right;\">\n",
              "      <th></th>\n",
              "      <th>PassengerId</th>\n",
              "      <th>Survived</th>\n",
              "    </tr>\n",
              "  </thead>\n",
              "  <tbody>\n",
              "    <tr>\n",
              "      <th>0</th>\n",
              "      <td>892</td>\n",
              "      <td>0</td>\n",
              "    </tr>\n",
              "    <tr>\n",
              "      <th>1</th>\n",
              "      <td>893</td>\n",
              "      <td>0</td>\n",
              "    </tr>\n",
              "    <tr>\n",
              "      <th>2</th>\n",
              "      <td>894</td>\n",
              "      <td>0</td>\n",
              "    </tr>\n",
              "    <tr>\n",
              "      <th>3</th>\n",
              "      <td>895</td>\n",
              "      <td>0</td>\n",
              "    </tr>\n",
              "    <tr>\n",
              "      <th>4</th>\n",
              "      <td>896</td>\n",
              "      <td>1</td>\n",
              "    </tr>\n",
              "  </tbody>\n",
              "</table>\n",
              "</div>"
            ],
            "text/plain": [
              "   PassengerId  Survived\n",
              "0          892         0\n",
              "1          893         0\n",
              "2          894         0\n",
              "3          895         0\n",
              "4          896         1"
            ]
          },
          "metadata": {
            "tags": []
          },
          "execution_count": 178
        }
      ]
    },
    {
      "cell_type": "code",
      "metadata": {
        "id": "Bvk0edfhn2_o",
        "colab_type": "code",
        "colab": {
          "base_uri": "https://localhost:8080/",
          "height": 35
        },
        "outputId": "7a4b573c-f096-4caa-b097-4b0421f0c545"
      },
      "source": [
        "submission_df.shape"
      ],
      "execution_count": 179,
      "outputs": [
        {
          "output_type": "execute_result",
          "data": {
            "text/plain": [
              "(418, 2)"
            ]
          },
          "metadata": {
            "tags": []
          },
          "execution_count": 179
        }
      ]
    },
    {
      "cell_type": "code",
      "metadata": {
        "id": "k0vKAWwLnVhT",
        "colab_type": "code",
        "colab": {}
      },
      "source": [
        "submission_df.to_csv('/content/drive/My Drive/DataScience/files/submission.csv',index=False)"
      ],
      "execution_count": 180,
      "outputs": []
    },
    {
      "cell_type": "markdown",
      "metadata": {
        "id": "As51bJwXwixI",
        "colab_type": "text"
      },
      "source": [
        "## Model Enhancement : Feature Preperation"
      ]
    },
    {
      "cell_type": "markdown",
      "metadata": {
        "id": "ai1fGQd9f-J5",
        "colab_type": "text"
      },
      "source": [
        "From here on, we consider the test set to be holdout set"
      ]
    },
    {
      "cell_type": "code",
      "metadata": {
        "id": "pWZb_wz-gB6t",
        "colab_type": "code",
        "colab": {}
      },
      "source": [
        "holdout = test"
      ],
      "execution_count": 181,
      "outputs": []
    },
    {
      "cell_type": "markdown",
      "metadata": {
        "id": "_kl0P89Tfw7t",
        "colab_type": "text"
      },
      "source": [
        "Modify the process_age function "
      ]
    },
    {
      "cell_type": "code",
      "metadata": {
        "id": "Fu25BPgBwntl",
        "colab_type": "code",
        "colab": {}
      },
      "source": [
        "# Function to transfor age to a categorical feature\n",
        "def process_age(df):\n",
        "  # Set nulls to a default low value\n",
        "  df['Age'] = df['Age'].fillna(-0.5)\n",
        "  label_names = ['Missing','Infant','Child','Teenager','Young Adult','Adult','Senior']\n",
        "  cut_points = [-1,0,5,12,18,35,60,100]\n",
        "  return pd.cut(df['Age'],bins=cut_points,labels=label_names)\n",
        "    "
      ],
      "execution_count": 182,
      "outputs": []
    },
    {
      "cell_type": "markdown",
      "metadata": {
        "id": "Pz_b5yRmg_R4",
        "colab_type": "text"
      },
      "source": [
        "Evaluating additional features - 'SibSp','Parch','Fare','Cabin','Embarked'"
      ]
    },
    {
      "cell_type": "code",
      "metadata": {
        "id": "dxHcpBs6gpoA",
        "colab_type": "code",
        "colab": {
          "base_uri": "https://localhost:8080/",
          "height": 378
        },
        "outputId": "ce7d8b82-b4f6-48b9-e92c-8411758c2fec"
      },
      "source": [
        "columns = ['SibSp','Parch','Fare','Cabin','Embarked']\n",
        "train[columns].describe(include='all')"
      ],
      "execution_count": 183,
      "outputs": [
        {
          "output_type": "execute_result",
          "data": {
            "text/html": [
              "<div>\n",
              "<style scoped>\n",
              "    .dataframe tbody tr th:only-of-type {\n",
              "        vertical-align: middle;\n",
              "    }\n",
              "\n",
              "    .dataframe tbody tr th {\n",
              "        vertical-align: top;\n",
              "    }\n",
              "\n",
              "    .dataframe thead th {\n",
              "        text-align: right;\n",
              "    }\n",
              "</style>\n",
              "<table border=\"1\" class=\"dataframe\">\n",
              "  <thead>\n",
              "    <tr style=\"text-align: right;\">\n",
              "      <th></th>\n",
              "      <th>SibSp</th>\n",
              "      <th>Parch</th>\n",
              "      <th>Fare</th>\n",
              "      <th>Cabin</th>\n",
              "      <th>Embarked</th>\n",
              "    </tr>\n",
              "  </thead>\n",
              "  <tbody>\n",
              "    <tr>\n",
              "      <th>count</th>\n",
              "      <td>891.000000</td>\n",
              "      <td>891.000000</td>\n",
              "      <td>891.000000</td>\n",
              "      <td>204</td>\n",
              "      <td>889</td>\n",
              "    </tr>\n",
              "    <tr>\n",
              "      <th>unique</th>\n",
              "      <td>NaN</td>\n",
              "      <td>NaN</td>\n",
              "      <td>NaN</td>\n",
              "      <td>147</td>\n",
              "      <td>3</td>\n",
              "    </tr>\n",
              "    <tr>\n",
              "      <th>top</th>\n",
              "      <td>NaN</td>\n",
              "      <td>NaN</td>\n",
              "      <td>NaN</td>\n",
              "      <td>C23 C25 C27</td>\n",
              "      <td>S</td>\n",
              "    </tr>\n",
              "    <tr>\n",
              "      <th>freq</th>\n",
              "      <td>NaN</td>\n",
              "      <td>NaN</td>\n",
              "      <td>NaN</td>\n",
              "      <td>4</td>\n",
              "      <td>644</td>\n",
              "    </tr>\n",
              "    <tr>\n",
              "      <th>mean</th>\n",
              "      <td>0.523008</td>\n",
              "      <td>0.381594</td>\n",
              "      <td>32.204208</td>\n",
              "      <td>NaN</td>\n",
              "      <td>NaN</td>\n",
              "    </tr>\n",
              "    <tr>\n",
              "      <th>std</th>\n",
              "      <td>1.102743</td>\n",
              "      <td>0.806057</td>\n",
              "      <td>49.693429</td>\n",
              "      <td>NaN</td>\n",
              "      <td>NaN</td>\n",
              "    </tr>\n",
              "    <tr>\n",
              "      <th>min</th>\n",
              "      <td>0.000000</td>\n",
              "      <td>0.000000</td>\n",
              "      <td>0.000000</td>\n",
              "      <td>NaN</td>\n",
              "      <td>NaN</td>\n",
              "    </tr>\n",
              "    <tr>\n",
              "      <th>25%</th>\n",
              "      <td>0.000000</td>\n",
              "      <td>0.000000</td>\n",
              "      <td>7.910400</td>\n",
              "      <td>NaN</td>\n",
              "      <td>NaN</td>\n",
              "    </tr>\n",
              "    <tr>\n",
              "      <th>50%</th>\n",
              "      <td>0.000000</td>\n",
              "      <td>0.000000</td>\n",
              "      <td>14.454200</td>\n",
              "      <td>NaN</td>\n",
              "      <td>NaN</td>\n",
              "    </tr>\n",
              "    <tr>\n",
              "      <th>75%</th>\n",
              "      <td>1.000000</td>\n",
              "      <td>0.000000</td>\n",
              "      <td>31.000000</td>\n",
              "      <td>NaN</td>\n",
              "      <td>NaN</td>\n",
              "    </tr>\n",
              "    <tr>\n",
              "      <th>max</th>\n",
              "      <td>8.000000</td>\n",
              "      <td>6.000000</td>\n",
              "      <td>512.329200</td>\n",
              "      <td>NaN</td>\n",
              "      <td>NaN</td>\n",
              "    </tr>\n",
              "  </tbody>\n",
              "</table>\n",
              "</div>"
            ],
            "text/plain": [
              "             SibSp       Parch        Fare        Cabin Embarked\n",
              "count   891.000000  891.000000  891.000000          204      889\n",
              "unique         NaN         NaN         NaN          147        3\n",
              "top            NaN         NaN         NaN  C23 C25 C27        S\n",
              "freq           NaN         NaN         NaN            4      644\n",
              "mean      0.523008    0.381594   32.204208          NaN      NaN\n",
              "std       1.102743    0.806057   49.693429          NaN      NaN\n",
              "min       0.000000    0.000000    0.000000          NaN      NaN\n",
              "25%       0.000000    0.000000    7.910400          NaN      NaN\n",
              "50%       0.000000    0.000000   14.454200          NaN      NaN\n",
              "75%       1.000000    0.000000   31.000000          NaN      NaN\n",
              "max       8.000000    6.000000  512.329200          NaN      NaN"
            ]
          },
          "metadata": {
            "tags": []
          },
          "execution_count": 183
        }
      ]
    },
    {
      "cell_type": "markdown",
      "metadata": {
        "id": "U7dTTiqWjzbu",
        "colab_type": "text"
      },
      "source": [
        "* 'SibSp','Parch','Fare' are standard numeric\n",
        "* 'Cabin' has only 204 value with remaining nulls\n",
        "*  Embarked is categorical with 3 unique values\n",
        "\n",
        "\n",
        "We begin by rescaling the numeric fields - SibSp, PArch & Fare"
      ]
    },
    {
      "cell_type": "code",
      "metadata": {
        "id": "R4kxdjL2mKD_",
        "colab_type": "code",
        "colab": {}
      },
      "source": [
        "train['Fare'] = train['Fare'].fillna(train['Fare'].mean())\n",
        "holdout['Fare'] = holdout['Fare'].fillna(train['Fare'].mean())"
      ],
      "execution_count": 184,
      "outputs": []
    },
    {
      "cell_type": "code",
      "metadata": {
        "id": "nmOK41dykwss",
        "colab_type": "code",
        "colab": {}
      },
      "source": [
        "train['SibSp_scaled'] = minmax_scale(train['SibSp'],axis=0)\n",
        "holdout['SibSp_scaled'] = minmax_scale(holdout['SibSp'],axis=0)\n",
        "\n",
        "train['Parch_scaled'] = minmax_scale(train['Parch'],axis=0)\n",
        "holdout['Parch_scaled'] = minmax_scale(holdout['Parch'],axis=0)\n",
        "\n",
        "train['Fare_scaled'] = minmax_scale(train['Fare'],axis=0)\n",
        "holdout['Fare_scaled'] = minmax_scale(holdout['Fare'],axis=0)"
      ],
      "execution_count": 185,
      "outputs": []
    },
    {
      "cell_type": "code",
      "metadata": {
        "id": "0zBp--22lgSf",
        "colab_type": "code",
        "colab": {}
      },
      "source": [
        "train['Embarked'] = train['Embarked'].fillna('S')\n",
        "train = create_dummies(train,'Embarked')\n",
        "\n",
        "holdout['Embarked'] = holdout['Embarked'].fillna('S')\n",
        "holdout = create_dummies(holdout,'Embarked')"
      ],
      "execution_count": 186,
      "outputs": []
    },
    {
      "cell_type": "markdown",
      "metadata": {
        "id": "3JDK472UnBWK",
        "colab_type": "text"
      },
      "source": [
        "Evaluate the effectiveness of fields on the model"
      ]
    },
    {
      "cell_type": "code",
      "metadata": {
        "id": "pDZuR3aImCUN",
        "colab_type": "code",
        "colab": {}
      },
      "source": [
        "columns = ['Age_categories_Missing', 'Age_categories_Infant',\n",
        "       'Age_categories_Child', 'Age_categories_Teenager',\n",
        "       'Age_categories_Young Adult', 'Age_categories_Adult',\n",
        "       'Age_categories_Senior', 'Pclass_1', 'Pclass_2', 'Pclass_3',\n",
        "       'Sex_female', 'Sex_male', 'Embarked_C', 'Embarked_Q', 'Embarked_S',\n",
        "       'SibSp_scaled', 'Parch_scaled', 'Fare_scaled']\n",
        "\n",
        "lr = LogisticRegression()\n",
        "lr.fit(train[columns],train['Survived'])\n",
        "coefficients = lr.coef_\n"
      ],
      "execution_count": 187,
      "outputs": []
    },
    {
      "cell_type": "markdown",
      "metadata": {
        "id": "W3FI8Q2Yo3EG",
        "colab_type": "text"
      },
      "source": [
        "Compare the coeffiecients to compare the weights they apply on the model."
      ]
    },
    {
      "cell_type": "code",
      "metadata": {
        "id": "eIWZ_hh8nSqQ",
        "colab_type": "code",
        "colab": {
          "base_uri": "https://localhost:8080/",
          "height": 268
        },
        "outputId": "8a84b412-d27a-4c15-fc2e-aca668597dff"
      },
      "source": [
        "feature_importance  = pd.Series(np.abs(coefficients[0]),index=columns).sort_values()\n",
        "feature_importance.plot.barh()\n",
        "plt.show()"
      ],
      "execution_count": 188,
      "outputs": [
        {
          "output_type": "display_data",
          "data": {
            "image/png": "[encoded data removed]",
            "text/plain": [
              "<Figure size 432x288 with 1 Axes>"
            ]
          },
          "metadata": {
            "tags": []
          }
        }
      ]
    },
    {
      "cell_type": "markdown",
      "metadata": {
        "id": "fe2PcleipV25",
        "colab_type": "text"
      },
      "source": [
        "Now to run a model on the top 8 features and see if there is any improvement in accuracy"
      ]
    },
    {
      "cell_type": "code",
      "metadata": {
        "id": "Cnmc9av-pgDE",
        "colab_type": "code",
        "colab": {
          "base_uri": "https://localhost:8080/",
          "height": 35
        },
        "outputId": "7063f562-c52d-422f-be5a-1e7a62b954d1"
      },
      "source": [
        "columns = ['Age_categories_Infant', 'SibSp_scaled', 'Sex_female', 'Sex_male',\n",
        "       'Pclass_1', 'Pclass_3', 'Age_categories_Senior', 'Parch_scaled']\n",
        "\n",
        "lr = LogisticRegression()\n",
        "\n",
        "scores = cross_val_score(lr,train[columns],train['Survived'],cv=10)\n",
        "accuracy = np.mean(scores)\n",
        "accuracy"
      ],
      "execution_count": 189,
      "outputs": [
        {
          "output_type": "execute_result",
          "data": {
            "text/plain": [
              "0.8148064918851435"
            ]
          },
          "metadata": {
            "tags": []
          },
          "execution_count": 189
        }
      ]
    },
    {
      "cell_type": "markdown",
      "metadata": {
        "id": "YjWakys9qQMM",
        "colab_type": "text"
      },
      "source": [
        "Resubmit to Kaggle"
      ]
    },
    {
      "cell_type": "code",
      "metadata": {
        "id": "VXT1wb_YqPwb",
        "colab_type": "code",
        "colab": {}
      },
      "source": [
        "lr.fit(train[columns],train['Survived'])\n",
        "holdout_predictions = lr.predict(holdout[columns])\n",
        "submission_df = pd.concat([holdout['PassengerId'],pd.Series(holdout_predictions)] , axis=1,names=['PassengerId','Survived'])\n",
        "submission_df.columns = ['PassengerId','Survived']\n",
        "submission_df.to_csv('/content/drive/My Drive/DataScience/files/submission.csv',index=False)"
      ],
      "execution_count": 190,
      "outputs": []
    },
    {
      "cell_type": "markdown",
      "metadata": {
        "id": "H6kaHsZ7ureC",
        "colab_type": "text"
      },
      "source": [
        "Process the feature - Fare and convert it to bins"
      ]
    },
    {
      "cell_type": "code",
      "metadata": {
        "id": "GfO7dH62uxkc",
        "colab_type": "code",
        "colab": {}
      },
      "source": [
        "# Function to transfor fare to a categorical feature\n",
        "def process_fare(df):\n",
        "  # Set nulls to a default low value\n",
        "  df['Fare'] = df['Fare'].fillna(df['Fare'].mean())\n",
        "  label_names = ['0-12','12-50','50-100','100+']\n",
        "  cut_points = [0,12,50,100,1000]\n",
        "  return pd.cut(df['Fare'],bins=cut_points,labels=label_names)\n",
        "\n",
        "# Convert to bins\n",
        "train['Fare_categories'] =  process_fare(train)\n",
        "holdout['Fare_categories'] =  process_fare(holdout)\n",
        "\n",
        "# Create dummies\n",
        "train = create_dummies(train,'Fare_categories')\n",
        "holdout = create_dummies(holdout,'Fare_categories')"
      ],
      "execution_count": 191,
      "outputs": []
    },
    {
      "cell_type": "markdown",
      "metadata": {
        "id": "MaDfjD77xIJm",
        "colab_type": "text"
      },
      "source": [
        "Extract information from the name"
      ]
    },
    {
      "cell_type": "code",
      "metadata": {
        "id": "jiI7IcWhu7hG",
        "colab_type": "code",
        "colab": {}
      },
      "source": [
        "titles = {\n",
        "    \"Mr\" :         \"Mr\",\n",
        "    \"Mme\":         \"Mrs\",\n",
        "    \"Ms\":          \"Mrs\",\n",
        "    \"Mrs\" :        \"Mrs\",\n",
        "    \"Master\" :     \"Master\",\n",
        "    \"Mlle\":        \"Miss\",\n",
        "    \"Miss\" :       \"Miss\",\n",
        "    \"Capt\":        \"Officer\",\n",
        "    \"Col\":         \"Officer\",\n",
        "    \"Major\":       \"Officer\",\n",
        "    \"Dr\":          \"Officer\",\n",
        "    \"Rev\":         \"Officer\",\n",
        "    \"Jonkheer\":    \"Royalty\",\n",
        "    \"Don\":         \"Royalty\",\n",
        "    \"Sir\" :        \"Royalty\",\n",
        "    \"Countess\":    \"Royalty\",\n",
        "    \"Dona\":        \"Royalty\",\n",
        "    \"Lady\" :       \"Royalty\"\n",
        "}\n",
        "\n",
        "\n",
        "extracted_titles = train[\"Name\"].str.extract(' ([A-Za-z]+)\\.',expand=False)\n",
        "train[\"Title\"] = extracted_titles.map(titles)\n",
        "\n",
        "extracted_titles = holdout[\"Name\"].str.extract(' ([A-Za-z]+)\\.',expand=False)\n",
        "holdout[\"Title\"] = extracted_titles.map(titles)"
      ],
      "execution_count": 192,
      "outputs": []
    },
    {
      "cell_type": "markdown",
      "metadata": {
        "id": "NLCxVMfXxa2X",
        "colab_type": "text"
      },
      "source": [
        "Extract the cabin-type which is a prefix of the cabin column"
      ]
    },
    {
      "cell_type": "code",
      "metadata": {
        "id": "7LL2034txgnE",
        "colab_type": "code",
        "colab": {}
      },
      "source": [
        "train['Cabin_type'] = train['Cabin'].str[0]\n",
        "train['Cabin_type'] = train['Cabin_type'].fillna('Unknown')\n",
        "\n",
        "holdout['Cabin_type'] = holdout['Cabin'].str[0]\n",
        "holdout['Cabin_type'] = holdout['Cabin_type'].fillna('Unknown')"
      ],
      "execution_count": 193,
      "outputs": []
    },
    {
      "cell_type": "code",
      "metadata": {
        "id": "1EkBdBs4xQ3K",
        "colab_type": "code",
        "colab": {}
      },
      "source": [
        "# Create dummies\n",
        "train = create_dummies(train,'Title')\n",
        "holdout = create_dummies(holdout,'Title')\n",
        "\n",
        "# Create dummies\n",
        "train = create_dummies(train,'Cabin_type')\n",
        "holdout = create_dummies(holdout,'Cabin_type')"
      ],
      "execution_count": 194,
      "outputs": []
    },
    {
      "cell_type": "markdown",
      "metadata": {
        "id": "vc_aiYMM0cGW",
        "colab_type": "text"
      },
      "source": [
        "Analyze Correlation to drop Features"
      ]
    },
    {
      "cell_type": "code",
      "metadata": {
        "id": "h92iVUrb0273",
        "colab_type": "code",
        "colab": {}
      },
      "source": [
        "columns = ['Age_categories_Missing', 'Age_categories_Infant',\n",
        "       'Age_categories_Child', 'Age_categories_Teenager',\n",
        "       'Age_categories_Young Adult', 'Age_categories_Adult',\n",
        "       'Age_categories_Senior', 'Pclass_1', 'Pclass_2', 'Pclass_3',\n",
        "       'Sex_female', 'Sex_male', 'Embarked_C', 'Embarked_Q', 'Embarked_S',\n",
        "       'SibSp_scaled', 'Parch_scaled', 'Fare_categories_0-12',\n",
        "       'Fare_categories_12-50','Fare_categories_50-100', 'Fare_categories_100+',\n",
        "       'Title_Master', 'Title_Miss', 'Title_Mr','Title_Mrs', 'Title_Officer',\n",
        "       'Title_Royalty', 'Cabin_type_A','Cabin_type_B', 'Cabin_type_C', 'Cabin_type_D',\n",
        "       'Cabin_type_E','Cabin_type_F', 'Cabin_type_G', 'Cabin_type_T', 'Cabin_type_Unknown']\n",
        "df = train[columns]"
      ],
      "execution_count": 195,
      "outputs": []
    },
    {
      "cell_type": "code",
      "metadata": {
        "id": "xqTGjDdw0eRT",
        "colab_type": "code",
        "colab": {}
      },
      "source": [
        "def plot_correlation_heatmap(df):\n",
        "  sns.set(style=\"white\")\n",
        "  corr = df.corr()\n",
        "  mask = np.triu(np.ones_like(corr, dtype=np.bool))\n",
        "  f, ax = plt.subplots(figsize=(11, 9))\n",
        "  cmap = sns.diverging_palette(220, 10, as_cmap=True)\n",
        "  sns.heatmap(corr, mask=mask, cmap=cmap, vmax=.3, center=0,\n",
        "              square=True, linewidths=.5, cbar_kws={\"shrink\": .5})\n",
        "  plt.show()"
      ],
      "execution_count": 196,
      "outputs": []
    },
    {
      "cell_type": "code",
      "metadata": {
        "id": "1rPbZ0Di1K8W",
        "colab_type": "code",
        "colab": {
          "base_uri": "https://localhost:8080/",
          "height": 685
        },
        "outputId": "c605a788-8185-4bbe-d50f-d8d1cd2c408b"
      },
      "source": [
        "plot_correlation_heatmap(train[columns])"
      ],
      "execution_count": 197,
      "outputs": [
        {
          "output_type": "display_data",
          "data": {
            "image/png": "[encoded data removed]",
            "text/plain": [
              "<Figure size 792x648 with 2 Axes>"
            ]
          },
          "metadata": {
            "tags": []
          }
        }
      ]
    },
    {
      "cell_type": "markdown",
      "metadata": {
        "id": "fgcrsEgZ2DTu",
        "colab_type": "text"
      },
      "source": [
        "Apply feature elimination with RFECV"
      ]
    },
    {
      "cell_type": "code",
      "metadata": {
        "id": "smrA_lrp2FvK",
        "colab_type": "code",
        "colab": {
          "base_uri": "https://localhost:8080/",
          "height": 35
        },
        "outputId": "2e0dbd52-4c11-406e-b703-802f5fc861d2"
      },
      "source": [
        "columns = ['Age_categories_Missing', 'Age_categories_Infant',\n",
        "       'Age_categories_Child', 'Age_categories_Young Adult',\n",
        "       'Age_categories_Adult', 'Age_categories_Senior', 'Pclass_1', 'Pclass_3',\n",
        "       'Embarked_C', 'Embarked_Q', 'Embarked_S', 'SibSp_scaled',\n",
        "       'Parch_scaled', 'Fare_categories_0-12', 'Fare_categories_50-100',\n",
        "       'Fare_categories_100+', 'Title_Miss', 'Title_Mr', 'Title_Mrs',\n",
        "       'Title_Officer', 'Title_Royalty', 'Cabin_type_B', 'Cabin_type_C',\n",
        "       'Cabin_type_D', 'Cabin_type_E', 'Cabin_type_F', 'Cabin_type_G',\n",
        "       'Cabin_type_T', 'Cabin_type_Unknown']\n",
        "\n",
        "all_X = train[columns]\n",
        "all_y = train[\"Survived\"]\n",
        "\n",
        "lr = LogisticRegression()\n",
        "selector = RFECV(lr,cv=10)\n",
        "selector.fit(all_X,all_y)\n",
        "optimized_columns = all_X.columns[selector.support_]\n",
        "optimized_columns"
      ],
      "execution_count": 198,
      "outputs": [
        {
          "output_type": "execute_result",
          "data": {
            "text/plain": [
              "Index(['SibSp_scaled', 'Title_Mr', 'Title_Officer', 'Cabin_type_Unknown'], dtype='object')"
            ]
          },
          "metadata": {
            "tags": []
          },
          "execution_count": 198
        }
      ]
    },
    {
      "cell_type": "code",
      "metadata": {
        "id": "utgiJxSM4p0j",
        "colab_type": "code",
        "colab": {
          "base_uri": "https://localhost:8080/",
          "height": 35
        },
        "outputId": "26a1f1df-3323-49ee-cb85-d398cc45c2fd"
      },
      "source": [
        "lr = LogisticRegression()\n",
        "\n",
        "scores = cross_val_score(lr,train[optimized_columns],train['Survived'],cv=10)\n",
        "accuracy = np.mean(scores)\n",
        "accuracy"
      ],
      "execution_count": 199,
      "outputs": [
        {
          "output_type": "execute_result",
          "data": {
            "text/plain": [
              "0.8226591760299625"
            ]
          },
          "metadata": {
            "tags": []
          },
          "execution_count": 199
        }
      ]
    },
    {
      "cell_type": "code",
      "metadata": {
        "id": "ceqs1t-U38NT",
        "colab_type": "code",
        "colab": {}
      },
      "source": [
        "lr.fit(train[optimized_columns],train['Survived'])\n",
        "holdout_predictions = lr.predict(holdout[optimized_columns])\n",
        "submission_df = pd.concat([holdout['PassengerId'],pd.Series(holdout_predictions)] , axis=1,names=['PassengerId','Survived'])\n",
        "submission_df.columns = ['PassengerId','Survived']\n",
        "submission_df.to_csv('/content/drive/My Drive/DataScience/files/submission.csv',index=False)"
      ],
      "execution_count": 200,
      "outputs": []
    },
    {
      "cell_type": "markdown",
      "metadata": {
        "id": "S0Iq2OZCgGYQ",
        "colab_type": "text"
      },
      "source": [
        "## Model Optimization"
      ]
    },
    {
      "cell_type": "code",
      "metadata": {
        "id": "0gG41sf66RYi",
        "colab_type": "code",
        "colab": {
          "base_uri": "https://localhost:8080/",
          "height": 35
        },
        "outputId": "9b0d1eed-76e5-44e2-9b92-44dba416d826"
      },
      "source": [
        "columns = ['Age_categories_Missing', 'Age_categories_Infant',\n",
        "       'Age_categories_Child', 'Age_categories_Teenager',\n",
        "       'Age_categories_Young Adult', 'Age_categories_Adult',\n",
        "       'Age_categories_Senior', 'Pclass_1', 'Pclass_2', 'Pclass_3',\n",
        "       'Sex_female', 'Sex_male', 'Embarked_C', 'Embarked_Q', 'Embarked_S',\n",
        "       'SibSp_scaled', 'Parch_scaled', 'Fare_scaled', 'Fare_categories_0-12',\n",
        "       'Fare_categories_12-50', 'Fare_categories_50-100',\n",
        "       'Fare_categories_100+', 'Title_Master', 'Title_Miss', 'Title_Mr',\n",
        "       'Title_Mrs', 'Title_Officer', 'Title_Royalty', 'Cabin_type_A',\n",
        "       'Cabin_type_B', 'Cabin_type_C', 'Cabin_type_D', 'Cabin_type_E',\n",
        "       'Cabin_type_F', 'Cabin_type_G', 'Cabin_type_T', 'Cabin_type_Unknown']\n",
        "# Baseline Logistic Regression\n",
        "all_X = train[columns]\n",
        "all_y = train['Survived']\n",
        "\n",
        "lr = LogisticRegression()\n",
        "scores = cross_val_score(lr, all_X, all_y,cv=10)\n",
        "accuracy_lr = np.mean(scores)\n",
        "accuracy_lr"
      ],
      "execution_count": 201,
      "outputs": [
        {
          "output_type": "execute_result",
          "data": {
            "text/plain": [
              "0.8249812734082397"
            ]
          },
          "metadata": {
            "tags": []
          },
          "execution_count": 201
        }
      ]
    },
    {
      "cell_type": "markdown",
      "metadata": {
        "id": "MNPfzpblkqfA",
        "colab_type": "text"
      },
      "source": [
        "#### Model with K-Nearest Neighbors"
      ]
    },
    {
      "cell_type": "code",
      "metadata": {
        "id": "VEGc_hb3hdKp",
        "colab_type": "code",
        "colab": {
          "base_uri": "https://localhost:8080/",
          "height": 35
        },
        "outputId": "0b81061f-af50-492c-93ef-0f7e143c1462"
      },
      "source": [
        "knn = KNeighborsClassifier(n_neighbors=1)\n",
        "scores = cross_val_score(knn, all_X,all_y,cv=10)\n",
        "accuracy_knn = np.mean(scores)\n",
        "accuracy_knn"
      ],
      "execution_count": 202,
      "outputs": [
        {
          "output_type": "execute_result",
          "data": {
            "text/plain": [
              "0.7833832709113608"
            ]
          },
          "metadata": {
            "tags": []
          },
          "execution_count": 202
        }
      ]
    },
    {
      "cell_type": "markdown",
      "metadata": {
        "id": "5HzW4eQomT5s",
        "colab_type": "text"
      },
      "source": [
        "#### kNN hyperparameter optimization"
      ]
    },
    {
      "cell_type": "code",
      "metadata": {
        "id": "83TzsJHkmYh8",
        "colab_type": "code",
        "colab": {}
      },
      "source": [
        "knn_scores = {}\n",
        "for i in range(1,50,2):\n",
        "  knn = KNeighborsClassifier(n_neighbors=i)\n",
        "  scores = cross_val_score(knn, all_X,all_y,cv=10)\n",
        "  knn_scores[i] = np.mean(scores)"
      ],
      "execution_count": 203,
      "outputs": []
    },
    {
      "cell_type": "code",
      "metadata": {
        "id": "-Nrj8aI2mym9",
        "colab_type": "code",
        "colab": {
          "base_uri": "https://localhost:8080/",
          "height": 385
        },
        "outputId": "178a6fd5-c4f3-43ea-ce4d-f2e5cb025731"
      },
      "source": [
        "pd.Series(knn_scores).plot.bar(figsize=(9,6), ylim=(0.78,0.83))\n",
        "\n",
        "plt.show()"
      ],
      "execution_count": 204,
      "outputs": [
        {
          "output_type": "display_data",
          "data": {
            "image/png": "[encoded data removed]",
            "text/plain": [
              "<Figure size 648x432 with 1 Axes>"
            ]
          },
          "metadata": {
            "tags": []
          }
        }
      ]
    },
    {
      "cell_type": "code",
      "metadata": {
        "id": "Yq9gh0KrowBA",
        "colab_type": "code",
        "colab": {
          "base_uri": "https://localhost:8080/",
          "height": 54
        },
        "outputId": "2edb7bc1-730e-47ce-e75c-3435e7c8e7b9"
      },
      "source": [
        "knn = KNeighborsClassifier()\n",
        "\n",
        "hyperparameters = {\n",
        "    \"n_neighbors\": range(1,50,2),\n",
        "    \"weights\": [\"distance\", \"uniform\"],\n",
        "    \"algorithm\": ['brute'],\n",
        "    \"p\": [1,2]\n",
        "}\n",
        "\n",
        "grid = GridSearchCV(knn, param_grid=hyperparameters, cv=10)\n",
        "grid.fit(all_X, all_y)\n",
        "\n",
        "best_params = grid.best_params_\n",
        "best_score = grid.best_score_\n",
        "best_knn = grid.best_estimator_\n",
        "\n",
        "print(best_params)\n",
        "print(best_score)"
      ],
      "execution_count": 205,
      "outputs": [
        {
          "output_type": "stream",
          "text": [
            "{'algorithm': 'brute', 'n_neighbors': 5, 'p': 2, 'weights': 'uniform'}\n",
            "0.8293882646691635\n"
          ],
          "name": "stdout"
        }
      ]
    },
    {
      "cell_type": "code",
      "metadata": {
        "id": "o5AS06V3qjii",
        "colab_type": "code",
        "colab": {}
      },
      "source": [
        "# Cabin_ype_T Not found in holdoutset \n",
        "holdout['Cabin_type_T'] = 0\n",
        "\n",
        "holdout_predictions = best_knn.predict(holdout[columns])\n",
        "submission_df = pd.concat([holdout['PassengerId'],pd.Series(holdout_predictions)] , axis=1,names=['PassengerId','Survived'])\n",
        "submission_df.columns = ['PassengerId','Survived']\n",
        "submission_df.to_csv('/content/drive/My Drive/DataScience/files/submission.csv',index=False)"
      ],
      "execution_count": 206,
      "outputs": []
    },
    {
      "cell_type": "markdown",
      "metadata": {
        "id": "SayZTJIPvsH4",
        "colab_type": "text"
      },
      "source": [
        "#### Random Forests"
      ]
    },
    {
      "cell_type": "code",
      "metadata": {
        "id": "-R7JGymVsiCD",
        "colab_type": "code",
        "colab": {
          "base_uri": "https://localhost:8080/",
          "height": 35
        },
        "outputId": "5e7da56a-744e-4311-fb2a-f21fc0432c9a"
      },
      "source": [
        "rf = RandomForestClassifier()\n",
        "scores = cross_val_score(rf, all_X,all_y,cv=10)\n",
        "accuracy_rf = np.mean(scores)\n",
        "accuracy_rf"
      ],
      "execution_count": 208,
      "outputs": [
        {
          "output_type": "execute_result",
          "data": {
            "text/plain": [
              "0.8159176029962547"
            ]
          },
          "metadata": {
            "tags": []
          },
          "execution_count": 208
        }
      ]
    },
    {
      "cell_type": "markdown",
      "metadata": {
        "id": "hnb8C-2kxe_V",
        "colab_type": "text"
      },
      "source": [
        "#### RF hyperparameter tuning"
      ]
    },
    {
      "cell_type": "code",
      "metadata": {
        "id": "v66e_nrDx4pL",
        "colab_type": "code",
        "colab": {
          "base_uri": "https://localhost:8080/",
          "height": 54
        },
        "outputId": "9e2ac840-7bf7-4d10-ad12-addd1d6c40ea"
      },
      "source": [
        "rf = RandomForestClassifier()\n",
        "hyperparameters = {\n",
        "    \"criterion\": [\"entropy\",\"gini\"],\n",
        "    \"max_depth\": [5,10,12,15],\n",
        "    \"max_features\": ['log2','sqrt'],\n",
        "    \"min_samples_leaf\" : [1,5,7,9],\n",
        "    \"min_samples_split\" : [3,5,7,9],\n",
        "    \"n_estimators\" : [6,9,10,11,12]\n",
        "}\n",
        "\n",
        "grid = GridSearchCV(rf, param_grid=hyperparameters, cv=10)\n",
        "grid.fit(all_X, all_y)\n",
        "\n",
        "best_params = grid.best_params_\n",
        "best_score = grid.best_score_\n",
        "best_rf = grid.best_estimator_\n",
        "\n",
        "print(best_params)\n",
        "print(best_score)"
      ],
      "execution_count": 221,
      "outputs": [
        {
          "output_type": "stream",
          "text": [
            "{'criterion': 'entropy', 'max_depth': 12, 'max_features': 'log2', 'min_samples_leaf': 1, 'min_samples_split': 9, 'n_estimators': 9}\n",
            "0.8428838951310862\n"
          ],
          "name": "stdout"
        }
      ]
    },
    {
      "cell_type": "code",
      "metadata": {
        "id": "V5wJ2XlAyd1W",
        "colab_type": "code",
        "colab": {}
      },
      "source": [
        "holdout_predictions = best_rf.predict(holdout[columns])\n",
        "submission_df = pd.concat([holdout['PassengerId'],pd.Series(holdout_predictions)] , axis=1,names=['PassengerId','Survived'])\n",
        "submission_df.columns = ['PassengerId','Survived']\n",
        "submission_df.to_csv('/content/drive/My Drive/DataScience/files/submission.csv',index=False)"
      ],
      "execution_count": 222,
      "outputs": []
    }
  ]
}